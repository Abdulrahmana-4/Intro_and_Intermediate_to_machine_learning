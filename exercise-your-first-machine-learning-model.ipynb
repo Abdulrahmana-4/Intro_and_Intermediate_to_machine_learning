{
 "cells": [
  {
   "cell_type": "markdown",
   "id": "5239f38b",
   "metadata": {
    "papermill": {
     "duration": 0.007623,
     "end_time": "2023-06-29T15:25:45.429871",
     "exception": false,
     "start_time": "2023-06-29T15:25:45.422248",
     "status": "completed"
    },
    "tags": []
   },
   "source": [
    "**This notebook is an exercise in the [Introduction to Machine Learning](https://www.kaggle.com/learn/intro-to-machine-learning) course.  You can reference the tutorial at [this link](https://www.kaggle.com/dansbecker/your-first-machine-learning-model).**\n",
    "\n",
    "---\n"
   ]
  },
  {
   "cell_type": "markdown",
   "id": "c28d9ca7",
   "metadata": {
    "papermill": {
     "duration": 0.006544,
     "end_time": "2023-06-29T15:25:45.443872",
     "exception": false,
     "start_time": "2023-06-29T15:25:45.437328",
     "status": "completed"
    },
    "tags": []
   },
   "source": [
    "## Recap\n",
    "So far, you have loaded your data and reviewed it with the following code. Run this cell to set up your coding environment where the previous step left off."
   ]
  },
  {
   "cell_type": "code",
   "execution_count": 1,
   "id": "5cacf45f",
   "metadata": {
    "execution": {
     "iopub.execute_input": "2023-06-29T15:25:45.460731Z",
     "iopub.status.busy": "2023-06-29T15:25:45.459751Z",
     "iopub.status.idle": "2023-06-29T15:25:47.413791Z",
     "shell.execute_reply": "2023-06-29T15:25:47.412631Z"
    },
    "papermill": {
     "duration": 1.965698,
     "end_time": "2023-06-29T15:25:47.416534",
     "exception": false,
     "start_time": "2023-06-29T15:25:45.450836",
     "status": "completed"
    },
    "tags": []
   },
   "outputs": [
    {
     "name": "stdout",
     "output_type": "stream",
     "text": [
      "Setup Complete\n"
     ]
    }
   ],
   "source": [
    "# Code you have previously used to load data\n",
    "import pandas as pd\n",
    "\n",
    "# Path of the file to read\n",
    "iowa_file_path = '../input/home-data-for-ml-course/train.csv'\n",
    "\n",
    "home_data = pd.read_csv(iowa_file_path)\n",
    "\n",
    "# Set up code checking\n",
    "from learntools.core import binder\n",
    "binder.bind(globals())\n",
    "from learntools.machine_learning.ex3 import *\n",
    "\n",
    "print(\"Setup Complete\")"
   ]
  },
  {
   "cell_type": "markdown",
   "id": "bdc36192",
   "metadata": {
    "papermill": {
     "duration": 0.006839,
     "end_time": "2023-06-29T15:25:47.430587",
     "exception": false,
     "start_time": "2023-06-29T15:25:47.423748",
     "status": "completed"
    },
    "tags": []
   },
   "source": [
    "# Exercises\n",
    "\n",
    "## Step 1: Specify Prediction Target\n",
    "Select the target variable, which corresponds to the sales price. Save this to a new variable called `y`. You'll need to print a list of the columns to find the name of the column you need.\n"
   ]
  },
  {
   "cell_type": "markdown",
   "id": "0a93489d",
   "metadata": {
    "jupyter": {
     "outputs_hidden": true
    },
    "papermill": {
     "duration": 0.006578,
     "end_time": "2023-06-29T15:25:47.444210",
     "exception": false,
     "start_time": "2023-06-29T15:25:47.437632",
     "status": "completed"
    },
    "tags": []
   },
   "source": [
    "[](http://)# print the list of columns in the dataset to find the name of the prediction target"
   ]
  },
  {
   "cell_type": "code",
   "execution_count": 2,
   "id": "5863db0b",
   "metadata": {
    "execution": {
     "iopub.execute_input": "2023-06-29T15:25:47.461683Z",
     "iopub.status.busy": "2023-06-29T15:25:47.461260Z",
     "iopub.status.idle": "2023-06-29T15:25:47.467698Z",
     "shell.execute_reply": "2023-06-29T15:25:47.466501Z"
    },
    "papermill": {
     "duration": 0.017309,
     "end_time": "2023-06-29T15:25:47.470066",
     "exception": false,
     "start_time": "2023-06-29T15:25:47.452757",
     "status": "completed"
    },
    "tags": []
   },
   "outputs": [
    {
     "name": "stdout",
     "output_type": "stream",
     "text": [
      "Index(['Id', 'MSSubClass', 'MSZoning', 'LotFrontage', 'LotArea', 'Street',\n",
      "       'Alley', 'LotShape', 'LandContour', 'Utilities', 'LotConfig',\n",
      "       'LandSlope', 'Neighborhood', 'Condition1', 'Condition2', 'BldgType',\n",
      "       'HouseStyle', 'OverallQual', 'OverallCond', 'YearBuilt', 'YearRemodAdd',\n",
      "       'RoofStyle', 'RoofMatl', 'Exterior1st', 'Exterior2nd', 'MasVnrType',\n",
      "       'MasVnrArea', 'ExterQual', 'ExterCond', 'Foundation', 'BsmtQual',\n",
      "       'BsmtCond', 'BsmtExposure', 'BsmtFinType1', 'BsmtFinSF1',\n",
      "       'BsmtFinType2', 'BsmtFinSF2', 'BsmtUnfSF', 'TotalBsmtSF', 'Heating',\n",
      "       'HeatingQC', 'CentralAir', 'Electrical', '1stFlrSF', '2ndFlrSF',\n",
      "       'LowQualFinSF', 'GrLivArea', 'BsmtFullBath', 'BsmtHalfBath', 'FullBath',\n",
      "       'HalfBath', 'BedroomAbvGr', 'KitchenAbvGr', 'KitchenQual',\n",
      "       'TotRmsAbvGrd', 'Functional', 'Fireplaces', 'FireplaceQu', 'GarageType',\n",
      "       'GarageYrBlt', 'GarageFinish', 'GarageCars', 'GarageArea', 'GarageQual',\n",
      "       'GarageCond', 'PavedDrive', 'WoodDeckSF', 'OpenPorchSF',\n",
      "       'EnclosedPorch', '3SsnPorch', 'ScreenPorch', 'PoolArea', 'PoolQC',\n",
      "       'Fence', 'MiscFeature', 'MiscVal', 'MoSold', 'YrSold', 'SaleType',\n",
      "       'SaleCondition', 'SalePrice'],\n",
      "      dtype='object')\n"
     ]
    }
   ],
   "source": [
    "print(home_data.columns)"
   ]
  },
  {
   "cell_type": "code",
   "execution_count": 3,
   "id": "d5a63634",
   "metadata": {
    "execution": {
     "iopub.execute_input": "2023-06-29T15:25:47.486789Z",
     "iopub.status.busy": "2023-06-29T15:25:47.486059Z",
     "iopub.status.idle": "2023-06-29T15:25:47.503951Z",
     "shell.execute_reply": "2023-06-29T15:25:47.503000Z"
    },
    "papermill": {
     "duration": 0.029166,
     "end_time": "2023-06-29T15:25:47.506427",
     "exception": false,
     "start_time": "2023-06-29T15:25:47.477261",
     "status": "completed"
    },
    "tags": []
   },
   "outputs": [
    {
     "data": {
      "application/javascript": [
       "parent.postMessage({\"jupyterEvent\": \"custom.exercise_interaction\", \"data\": {\"outcomeType\": 1, \"valueTowardsCompletion\": 0.25, \"interactionType\": 1, \"questionType\": 2, \"questionId\": \"1_SetTarget\", \"learnToolsVersion\": \"0.3.4\", \"failureMessage\": \"\", \"exceptionClass\": \"\", \"trace\": \"\"}}, \"*\")"
      ],
      "text/plain": [
       "<IPython.core.display.Javascript object>"
      ]
     },
     "metadata": {},
     "output_type": "display_data"
    },
    {
     "data": {
      "text/markdown": [
       "<span style=\"color:#33cc33\">Correct</span>"
      ],
      "text/plain": [
       "Correct"
      ]
     },
     "metadata": {},
     "output_type": "display_data"
    }
   ],
   "source": [
    "y = home_data.SalePrice\n",
    "\n",
    "# Check your answer\n",
    "step_1.check()"
   ]
  },
  {
   "cell_type": "code",
   "execution_count": 4,
   "id": "36d05fac",
   "metadata": {
    "execution": {
     "iopub.execute_input": "2023-06-29T15:25:47.524409Z",
     "iopub.status.busy": "2023-06-29T15:25:47.523247Z",
     "iopub.status.idle": "2023-06-29T15:25:47.527647Z",
     "shell.execute_reply": "2023-06-29T15:25:47.526839Z"
    },
    "papermill": {
     "duration": 0.016243,
     "end_time": "2023-06-29T15:25:47.530172",
     "exception": false,
     "start_time": "2023-06-29T15:25:47.513929",
     "status": "completed"
    },
    "tags": []
   },
   "outputs": [],
   "source": [
    "# The lines below will show you a hint or the solution.\n",
    "#step_1.hint() \n",
    "#step_1.solution()"
   ]
  },
  {
   "cell_type": "markdown",
   "id": "e1db9997",
   "metadata": {
    "papermill": {
     "duration": 0.007273,
     "end_time": "2023-06-29T15:25:47.545585",
     "exception": false,
     "start_time": "2023-06-29T15:25:47.538312",
     "status": "completed"
    },
    "tags": []
   },
   "source": [
    "## Step 2: Create X\n",
    "Now you will create a DataFrame called `X` holding the predictive features.\n",
    "\n",
    "Since you want only some columns from the original data, you'll first create a list with the names of the columns you want in `X`.\n",
    "\n",
    "You'll use just the following columns in the list (you can copy and paste the whole list to save some typing, though you'll still need to add quotes):\n",
    "  * LotArea\n",
    "  * YearBuilt\n",
    "  * 1stFlrSF\n",
    "  * 2ndFlrSF\n",
    "  * FullBath\n",
    "  * BedroomAbvGr\n",
    "  * TotRmsAbvGrd\n",
    "\n",
    "After you've created that list of features, use it to create the DataFrame that you'll use to fit the model."
   ]
  },
  {
   "cell_type": "code",
   "execution_count": 5,
   "id": "93542115",
   "metadata": {
    "execution": {
     "iopub.execute_input": "2023-06-29T15:25:47.563061Z",
     "iopub.status.busy": "2023-06-29T15:25:47.562124Z",
     "iopub.status.idle": "2023-06-29T15:25:47.580402Z",
     "shell.execute_reply": "2023-06-29T15:25:47.579354Z"
    },
    "papermill": {
     "duration": 0.029346,
     "end_time": "2023-06-29T15:25:47.582546",
     "exception": false,
     "start_time": "2023-06-29T15:25:47.553200",
     "status": "completed"
    },
    "tags": []
   },
   "outputs": [
    {
     "data": {
      "application/javascript": [
       "parent.postMessage({\"jupyterEvent\": \"custom.exercise_interaction\", \"data\": {\"outcomeType\": 1, \"valueTowardsCompletion\": 0.25, \"interactionType\": 1, \"questionType\": 2, \"questionId\": \"2_SelectPredictionData\", \"learnToolsVersion\": \"0.3.4\", \"failureMessage\": \"\", \"exceptionClass\": \"\", \"trace\": \"\"}}, \"*\")"
      ],
      "text/plain": [
       "<IPython.core.display.Javascript object>"
      ]
     },
     "metadata": {},
     "output_type": "display_data"
    },
    {
     "data": {
      "text/markdown": [
       "<span style=\"color:#33cc33\">Correct</span>"
      ],
      "text/plain": [
       "Correct"
      ]
     },
     "metadata": {},
     "output_type": "display_data"
    }
   ],
   "source": [
    "# Create the list of features below\n",
    "feature_names = ['LotArea','YearBuilt','1stFlrSF','2ndFlrSF','FullBath','BedroomAbvGr','TotRmsAbvGrd']\n",
    "\n",
    "# Select data corresponding to features in feature_names\n",
    "X = home_data[feature_names]\n",
    "\n",
    "# Check your answer\n",
    "step_2.check()"
   ]
  },
  {
   "cell_type": "code",
   "execution_count": 6,
   "id": "3b1161b0",
   "metadata": {
    "execution": {
     "iopub.execute_input": "2023-06-29T15:25:47.600889Z",
     "iopub.status.busy": "2023-06-29T15:25:47.599684Z",
     "iopub.status.idle": "2023-06-29T15:25:47.604690Z",
     "shell.execute_reply": "2023-06-29T15:25:47.603588Z"
    },
    "papermill": {
     "duration": 0.016745,
     "end_time": "2023-06-29T15:25:47.606973",
     "exception": false,
     "start_time": "2023-06-29T15:25:47.590228",
     "status": "completed"
    },
    "tags": []
   },
   "outputs": [],
   "source": [
    "# step_2.hint()\n",
    "# step_2.solution()"
   ]
  },
  {
   "cell_type": "markdown",
   "id": "fd7d5dd1",
   "metadata": {
    "papermill": {
     "duration": 0.007492,
     "end_time": "2023-06-29T15:25:47.622520",
     "exception": false,
     "start_time": "2023-06-29T15:25:47.615028",
     "status": "completed"
    },
    "tags": []
   },
   "source": [
    "## Review Data\n",
    "Before building a model, take a quick look at **X** to verify it looks sensible"
   ]
  },
  {
   "cell_type": "code",
   "execution_count": 7,
   "id": "a026ccdb",
   "metadata": {
    "execution": {
     "iopub.execute_input": "2023-06-29T15:25:47.639660Z",
     "iopub.status.busy": "2023-06-29T15:25:47.639213Z",
     "iopub.status.idle": "2023-06-29T15:25:47.680528Z",
     "shell.execute_reply": "2023-06-29T15:25:47.679394Z"
    },
    "papermill": {
     "duration": 0.053224,
     "end_time": "2023-06-29T15:25:47.683407",
     "exception": false,
     "start_time": "2023-06-29T15:25:47.630183",
     "status": "completed"
    },
    "tags": []
   },
   "outputs": [
    {
     "name": "stdout",
     "output_type": "stream",
     "text": [
      "             LotArea    YearBuilt     1stFlrSF     2ndFlrSF     FullBath  \\\n",
      "count    1460.000000  1460.000000  1460.000000  1460.000000  1460.000000   \n",
      "mean    10516.828082  1971.267808  1162.626712   346.992466     1.565068   \n",
      "std      9981.264932    30.202904   386.587738   436.528436     0.550916   \n",
      "min      1300.000000  1872.000000   334.000000     0.000000     0.000000   \n",
      "25%      7553.500000  1954.000000   882.000000     0.000000     1.000000   \n",
      "50%      9478.500000  1973.000000  1087.000000     0.000000     2.000000   \n",
      "75%     11601.500000  2000.000000  1391.250000   728.000000     2.000000   \n",
      "max    215245.000000  2010.000000  4692.000000  2065.000000     3.000000   \n",
      "\n",
      "       BedroomAbvGr  TotRmsAbvGrd  \n",
      "count   1460.000000   1460.000000  \n",
      "mean       2.866438      6.517808  \n",
      "std        0.815778      1.625393  \n",
      "min        0.000000      2.000000  \n",
      "25%        2.000000      5.000000  \n",
      "50%        3.000000      6.000000  \n",
      "75%        3.000000      7.000000  \n",
      "max        8.000000     14.000000  \n",
      "   LotArea  YearBuilt  1stFlrSF  2ndFlrSF  FullBath  BedroomAbvGr  \\\n",
      "0     8450       2003       856       854         2             3   \n",
      "1     9600       1976      1262         0         2             3   \n",
      "2    11250       2001       920       866         2             3   \n",
      "3     9550       1915       961       756         1             3   \n",
      "4    14260       2000      1145      1053         2             4   \n",
      "\n",
      "   TotRmsAbvGrd  \n",
      "0             8  \n",
      "1             6  \n",
      "2             6  \n",
      "3             7  \n",
      "4             9  \n"
     ]
    }
   ],
   "source": [
    "# Review data\n",
    "# print description or statistics from X\n",
    "#print(_)\n",
    "print(X.describe())\n",
    "\n",
    "# print the top few lines\n",
    "#print(_)\n",
    "print(X.head())"
   ]
  },
  {
   "cell_type": "markdown",
   "id": "3c2659da",
   "metadata": {
    "papermill": {
     "duration": 0.007703,
     "end_time": "2023-06-29T15:25:47.699070",
     "exception": false,
     "start_time": "2023-06-29T15:25:47.691367",
     "status": "completed"
    },
    "tags": []
   },
   "source": [
    "## Step 3: Specify and Fit Model\n",
    "Create a `DecisionTreeRegressor` and save it iowa_model. Ensure you've done the relevant import from sklearn to run this command.\n",
    "\n",
    "Then fit the model you just created using the data in `X` and `y` that you saved above."
   ]
  },
  {
   "cell_type": "code",
   "execution_count": 8,
   "id": "a2f343bb",
   "metadata": {
    "execution": {
     "iopub.execute_input": "2023-06-29T15:25:47.717169Z",
     "iopub.status.busy": "2023-06-29T15:25:47.716458Z",
     "iopub.status.idle": "2023-06-29T15:25:47.736947Z",
     "shell.execute_reply": "2023-06-29T15:25:47.735681Z"
    },
    "papermill": {
     "duration": 0.032428,
     "end_time": "2023-06-29T15:25:47.739354",
     "exception": false,
     "start_time": "2023-06-29T15:25:47.706926",
     "status": "completed"
    },
    "tags": []
   },
   "outputs": [
    {
     "data": {
      "application/javascript": [
       "parent.postMessage({\"jupyterEvent\": \"custom.exercise_interaction\", \"data\": {\"outcomeType\": 1, \"valueTowardsCompletion\": 0.25, \"interactionType\": 1, \"questionType\": 2, \"questionId\": \"3_CreateModel\", \"learnToolsVersion\": \"0.3.4\", \"failureMessage\": \"\", \"exceptionClass\": \"\", \"trace\": \"\"}}, \"*\")"
      ],
      "text/plain": [
       "<IPython.core.display.Javascript object>"
      ]
     },
     "metadata": {},
     "output_type": "display_data"
    },
    {
     "data": {
      "text/markdown": [
       "<span style=\"color:#33cc33\">Correct</span>"
      ],
      "text/plain": [
       "Correct"
      ]
     },
     "metadata": {},
     "output_type": "display_data"
    }
   ],
   "source": [
    "# from _ import _\n",
    "#specify the model. \n",
    "#For model reproducibility, set a numeric value for random_state when specifying the model\n",
    "from sklearn.tree import DecisionTreeRegressor\n",
    "iowa_model = DecisionTreeRegressor(random_state=1)\n",
    "\n",
    "# Fit the model\n",
    "iowa_model.fit(X,y)\n",
    "\n",
    "# Check your answer\n",
    "step_3.check()"
   ]
  },
  {
   "cell_type": "code",
   "execution_count": 9,
   "id": "4b459a80",
   "metadata": {
    "execution": {
     "iopub.execute_input": "2023-06-29T15:25:47.757896Z",
     "iopub.status.busy": "2023-06-29T15:25:47.757469Z",
     "iopub.status.idle": "2023-06-29T15:25:47.762072Z",
     "shell.execute_reply": "2023-06-29T15:25:47.761112Z"
    },
    "papermill": {
     "duration": 0.016544,
     "end_time": "2023-06-29T15:25:47.764301",
     "exception": false,
     "start_time": "2023-06-29T15:25:47.747757",
     "status": "completed"
    },
    "tags": []
   },
   "outputs": [],
   "source": [
    "# step_3.hint()\n",
    "# step_3.solution()"
   ]
  },
  {
   "cell_type": "markdown",
   "id": "3d2b4b8b",
   "metadata": {
    "papermill": {
     "duration": 0.007831,
     "end_time": "2023-06-29T15:25:47.780483",
     "exception": false,
     "start_time": "2023-06-29T15:25:47.772652",
     "status": "completed"
    },
    "tags": []
   },
   "source": [
    "## Step 4: Make Predictions\n",
    "Make predictions with the model's `predict` command using `X` as the data. Save the results to a variable called `predictions`."
   ]
  },
  {
   "cell_type": "code",
   "execution_count": 10,
   "id": "3d704c01",
   "metadata": {
    "execution": {
     "iopub.execute_input": "2023-06-29T15:25:47.798899Z",
     "iopub.status.busy": "2023-06-29T15:25:47.798477Z",
     "iopub.status.idle": "2023-06-29T15:25:47.811941Z",
     "shell.execute_reply": "2023-06-29T15:25:47.811161Z"
    },
    "papermill": {
     "duration": 0.025263,
     "end_time": "2023-06-29T15:25:47.813903",
     "exception": false,
     "start_time": "2023-06-29T15:25:47.788640",
     "status": "completed"
    },
    "tags": []
   },
   "outputs": [
    {
     "name": "stdout",
     "output_type": "stream",
     "text": [
      "[208500. 181500. 223500. ... 266500. 142125. 147500.]\n"
     ]
    },
    {
     "data": {
      "application/javascript": [
       "parent.postMessage({\"jupyterEvent\": \"custom.exercise_interaction\", \"data\": {\"outcomeType\": 1, \"valueTowardsCompletion\": 0.25, \"interactionType\": 1, \"questionType\": 2, \"questionId\": \"4_MakePredictions\", \"learnToolsVersion\": \"0.3.4\", \"failureMessage\": \"\", \"exceptionClass\": \"\", \"trace\": \"\"}}, \"*\")"
      ],
      "text/plain": [
       "<IPython.core.display.Javascript object>"
      ]
     },
     "metadata": {},
     "output_type": "display_data"
    },
    {
     "data": {
      "text/markdown": [
       "<span style=\"color:#33cc33\">Correct</span>"
      ],
      "text/plain": [
       "Correct"
      ]
     },
     "metadata": {},
     "output_type": "display_data"
    }
   ],
   "source": [
    "predictions = iowa_model.predict(X)\n",
    "print(predictions)\n",
    "\n",
    "# Check your answer\n",
    "step_4.check()"
   ]
  },
  {
   "cell_type": "code",
   "execution_count": 11,
   "id": "dbc3da75",
   "metadata": {
    "execution": {
     "iopub.execute_input": "2023-06-29T15:25:47.832980Z",
     "iopub.status.busy": "2023-06-29T15:25:47.832223Z",
     "iopub.status.idle": "2023-06-29T15:25:47.837050Z",
     "shell.execute_reply": "2023-06-29T15:25:47.835962Z"
    },
    "papermill": {
     "duration": 0.016807,
     "end_time": "2023-06-29T15:25:47.839246",
     "exception": false,
     "start_time": "2023-06-29T15:25:47.822439",
     "status": "completed"
    },
    "tags": []
   },
   "outputs": [],
   "source": [
    "# step_4.hint()\n",
    "# step_4.solution()"
   ]
  },
  {
   "cell_type": "markdown",
   "id": "abbd6cd7",
   "metadata": {
    "papermill": {
     "duration": 0.008198,
     "end_time": "2023-06-29T15:25:47.856062",
     "exception": false,
     "start_time": "2023-06-29T15:25:47.847864",
     "status": "completed"
    },
    "tags": []
   },
   "source": [
    "## Think About Your Results\n",
    "\n",
    "Use the `head` method to compare the top few predictions to the actual home values (in `y`) for those same homes. Anything surprising?\n"
   ]
  },
  {
   "cell_type": "code",
   "execution_count": 12,
   "id": "15a30ef5",
   "metadata": {
    "execution": {
     "iopub.execute_input": "2023-06-29T15:25:47.875075Z",
     "iopub.status.busy": "2023-06-29T15:25:47.874650Z",
     "iopub.status.idle": "2023-06-29T15:25:47.882426Z",
     "shell.execute_reply": "2023-06-29T15:25:47.881577Z"
    },
    "papermill": {
     "duration": 0.01989,
     "end_time": "2023-06-29T15:25:47.884567",
     "exception": false,
     "start_time": "2023-06-29T15:25:47.864677",
     "status": "completed"
    },
    "tags": []
   },
   "outputs": [
    {
     "data": {
      "text/plain": [
       "0    208500\n",
       "1    181500\n",
       "2    223500\n",
       "3    140000\n",
       "4    250000\n",
       "Name: SalePrice, dtype: int64"
      ]
     },
     "execution_count": 12,
     "metadata": {},
     "output_type": "execute_result"
    }
   ],
   "source": [
    "# You can write code in this cell\n",
    "y.head()"
   ]
  },
  {
   "cell_type": "markdown",
   "id": "cbc065f4",
   "metadata": {
    "papermill": {
     "duration": 0.008569,
     "end_time": "2023-06-29T15:25:47.901929",
     "exception": false,
     "start_time": "2023-06-29T15:25:47.893360",
     "status": "completed"
    },
    "tags": []
   },
   "source": [
    "It's natural to ask how accurate the model's predictions will be and how you can improve that. That will be you're next step.\n",
    "\n",
    "# Keep Going\n",
    "\n",
    "You are ready for **[Model Validation](https://www.kaggle.com/dansbecker/model-validation).**\n"
   ]
  },
  {
   "cell_type": "markdown",
   "id": "8e18c9a9",
   "metadata": {
    "papermill": {
     "duration": 0.008517,
     "end_time": "2023-06-29T15:25:47.919233",
     "exception": false,
     "start_time": "2023-06-29T15:25:47.910716",
     "status": "completed"
    },
    "tags": []
   },
   "source": [
    "---\n",
    "\n",
    "\n",
    "\n",
    "\n",
    "*Have questions or comments? Visit the [course discussion forum](https://www.kaggle.com/learn/intro-to-machine-learning/discussion) to chat with other learners.*"
   ]
  }
 ],
 "metadata": {
  "kernelspec": {
   "display_name": "Python 3",
   "language": "python",
   "name": "python3"
  },
  "language_info": {
   "codemirror_mode": {
    "name": "ipython",
    "version": 3
   },
   "file_extension": ".py",
   "mimetype": "text/x-python",
   "name": "python",
   "nbconvert_exporter": "python",
   "pygments_lexer": "ipython3",
   "version": "3.10.10"
  },
  "papermill": {
   "default_parameters": {},
   "duration": 16.821804,
   "end_time": "2023-06-29T15:25:48.952666",
   "environment_variables": {},
   "exception": null,
   "input_path": "__notebook__.ipynb",
   "output_path": "__notebook__.ipynb",
   "parameters": {},
   "start_time": "2023-06-29T15:25:32.130862",
   "version": "2.4.0"
  }
 },
 "nbformat": 4,
 "nbformat_minor": 5
}
