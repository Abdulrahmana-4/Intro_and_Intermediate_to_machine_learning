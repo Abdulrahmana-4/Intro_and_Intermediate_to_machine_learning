{
 "cells": [
  {
   "cell_type": "markdown",
   "id": "94f443d1",
   "metadata": {
    "papermill": {
     "duration": 0.013864,
     "end_time": "2023-06-30T10:01:17.762569",
     "exception": false,
     "start_time": "2023-06-30T10:01:17.748705",
     "status": "completed"
    },
    "tags": []
   },
   "source": [
    "**This notebook is an exercise in the [Intermediate Machine Learning](https://www.kaggle.com/learn/intermediate-machine-learning) course.  You can reference the tutorial at [this link](https://www.kaggle.com/alexisbcook/missing-values).**\n",
    "\n",
    "---\n"
   ]
  },
  {
   "cell_type": "markdown",
   "id": "fd0e3851",
   "metadata": {
    "papermill": {
     "duration": 0.010817,
     "end_time": "2023-06-30T10:01:17.784940",
     "exception": false,
     "start_time": "2023-06-30T10:01:17.774123",
     "status": "completed"
    },
    "tags": []
   },
   "source": [
    "Now it's your turn to test your new knowledge of **missing values** handling. You'll probably find it makes a big difference.\n",
    "\n",
    "# Setup\n",
    "\n",
    "The questions will give you feedback on your work. Run the following cell to set up the feedback system."
   ]
  },
  {
   "cell_type": "code",
   "execution_count": 1,
   "id": "288c00d8",
   "metadata": {
    "execution": {
     "iopub.execute_input": "2023-06-30T10:01:17.809900Z",
     "iopub.status.busy": "2023-06-30T10:01:17.809162Z",
     "iopub.status.idle": "2023-06-30T10:01:17.861210Z",
     "shell.execute_reply": "2023-06-30T10:01:17.859763Z"
    },
    "papermill": {
     "duration": 0.067452,
     "end_time": "2023-06-30T10:01:17.863727",
     "exception": false,
     "start_time": "2023-06-30T10:01:17.796275",
     "status": "completed"
    },
    "tags": []
   },
   "outputs": [
    {
     "name": "stdout",
     "output_type": "stream",
     "text": [
      "Setup Complete\n"
     ]
    }
   ],
   "source": [
    "# Set up code checking\n",
    "import os\n",
    "if not os.path.exists(\"../input/train.csv\"):\n",
    "    os.symlink(\"../input/home-data-for-ml-course/train.csv\", \"../input/train.csv\")  \n",
    "    os.symlink(\"../input/home-data-for-ml-course/test.csv\", \"../input/test.csv\") \n",
    "from learntools.core import binder\n",
    "binder.bind(globals())\n",
    "from learntools.ml_intermediate.ex2 import *\n",
    "print(\"Setup Complete\")"
   ]
  },
  {
   "cell_type": "markdown",
   "id": "9502b67c",
   "metadata": {
    "papermill": {
     "duration": 0.011012,
     "end_time": "2023-06-30T10:01:17.886357",
     "exception": false,
     "start_time": "2023-06-30T10:01:17.875345",
     "status": "completed"
    },
    "tags": []
   },
   "source": [
    "In this exercise, you will work with data from the [Housing Prices Competition for Kaggle Learn Users](https://www.kaggle.com/c/home-data-for-ml-course). \n",
    "\n",
    "![Ames Housing dataset image](https://storage.googleapis.com/kaggle-media/learn/images/lTJVG4e.png)\n",
    "\n",
    "Run the next code cell without changes to load the training and validation sets in `X_train`, `X_valid`, `y_train`, and `y_valid`.  The test set is loaded in `X_test`."
   ]
  },
  {
   "cell_type": "code",
   "execution_count": 2,
   "id": "a267a4a2",
   "metadata": {
    "execution": {
     "iopub.execute_input": "2023-06-30T10:01:17.911142Z",
     "iopub.status.busy": "2023-06-30T10:01:17.910341Z",
     "iopub.status.idle": "2023-06-30T10:01:19.532463Z",
     "shell.execute_reply": "2023-06-30T10:01:19.531344Z"
    },
    "papermill": {
     "duration": 1.637551,
     "end_time": "2023-06-30T10:01:19.535207",
     "exception": false,
     "start_time": "2023-06-30T10:01:17.897656",
     "status": "completed"
    },
    "tags": []
   },
   "outputs": [],
   "source": [
    "import pandas as pd\n",
    "from sklearn.model_selection import train_test_split\n",
    "\n",
    "# Read the data\n",
    "X_full = pd.read_csv('../input/train.csv', index_col='Id')\n",
    "X_test_full = pd.read_csv('../input/test.csv', index_col='Id')\n",
    "\n",
    "# Remove rows with missing target, separate target from predictors\n",
    "X_full.dropna(axis=0, subset=['SalePrice'], inplace=True)\n",
    "y = X_full.SalePrice\n",
    "X_full.drop(['SalePrice'], axis=1, inplace=True)\n",
    "\n",
    "# To keep things simple, we'll use only numerical predictors\n",
    "X = X_full.select_dtypes(exclude=['object'])\n",
    "X_test = X_test_full.select_dtypes(exclude=['object'])\n",
    "\n",
    "# Break off validation set from training data\n",
    "X_train, X_valid, y_train, y_valid = train_test_split(X, y, train_size=0.8, test_size=0.2,\n",
    "                                                      random_state=0)"
   ]
  },
  {
   "cell_type": "markdown",
   "id": "14d7188f",
   "metadata": {
    "papermill": {
     "duration": 0.011029,
     "end_time": "2023-06-30T10:01:19.557760",
     "exception": false,
     "start_time": "2023-06-30T10:01:19.546731",
     "status": "completed"
    },
    "tags": []
   },
   "source": [
    "Use the next code cell to print the first five rows of the data."
   ]
  },
  {
   "cell_type": "code",
   "execution_count": 3,
   "id": "98905dd5",
   "metadata": {
    "execution": {
     "iopub.execute_input": "2023-06-30T10:01:19.582419Z",
     "iopub.status.busy": "2023-06-30T10:01:19.582010Z",
     "iopub.status.idle": "2023-06-30T10:01:19.617016Z",
     "shell.execute_reply": "2023-06-30T10:01:19.616228Z"
    },
    "papermill": {
     "duration": 0.050166,
     "end_time": "2023-06-30T10:01:19.619419",
     "exception": false,
     "start_time": "2023-06-30T10:01:19.569253",
     "status": "completed"
    },
    "tags": []
   },
   "outputs": [
    {
     "data": {
      "text/html": [
       "<div>\n",
       "<style scoped>\n",
       "    .dataframe tbody tr th:only-of-type {\n",
       "        vertical-align: middle;\n",
       "    }\n",
       "\n",
       "    .dataframe tbody tr th {\n",
       "        vertical-align: top;\n",
       "    }\n",
       "\n",
       "    .dataframe thead th {\n",
       "        text-align: right;\n",
       "    }\n",
       "</style>\n",
       "<table border=\"1\" class=\"dataframe\">\n",
       "  <thead>\n",
       "    <tr style=\"text-align: right;\">\n",
       "      <th></th>\n",
       "      <th>MSSubClass</th>\n",
       "      <th>LotFrontage</th>\n",
       "      <th>LotArea</th>\n",
       "      <th>OverallQual</th>\n",
       "      <th>OverallCond</th>\n",
       "      <th>YearBuilt</th>\n",
       "      <th>YearRemodAdd</th>\n",
       "      <th>MasVnrArea</th>\n",
       "      <th>BsmtFinSF1</th>\n",
       "      <th>BsmtFinSF2</th>\n",
       "      <th>...</th>\n",
       "      <th>GarageArea</th>\n",
       "      <th>WoodDeckSF</th>\n",
       "      <th>OpenPorchSF</th>\n",
       "      <th>EnclosedPorch</th>\n",
       "      <th>3SsnPorch</th>\n",
       "      <th>ScreenPorch</th>\n",
       "      <th>PoolArea</th>\n",
       "      <th>MiscVal</th>\n",
       "      <th>MoSold</th>\n",
       "      <th>YrSold</th>\n",
       "    </tr>\n",
       "    <tr>\n",
       "      <th>Id</th>\n",
       "      <th></th>\n",
       "      <th></th>\n",
       "      <th></th>\n",
       "      <th></th>\n",
       "      <th></th>\n",
       "      <th></th>\n",
       "      <th></th>\n",
       "      <th></th>\n",
       "      <th></th>\n",
       "      <th></th>\n",
       "      <th></th>\n",
       "      <th></th>\n",
       "      <th></th>\n",
       "      <th></th>\n",
       "      <th></th>\n",
       "      <th></th>\n",
       "      <th></th>\n",
       "      <th></th>\n",
       "      <th></th>\n",
       "      <th></th>\n",
       "      <th></th>\n",
       "    </tr>\n",
       "  </thead>\n",
       "  <tbody>\n",
       "    <tr>\n",
       "      <th>619</th>\n",
       "      <td>20</td>\n",
       "      <td>90.0</td>\n",
       "      <td>11694</td>\n",
       "      <td>9</td>\n",
       "      <td>5</td>\n",
       "      <td>2007</td>\n",
       "      <td>2007</td>\n",
       "      <td>452.0</td>\n",
       "      <td>48</td>\n",
       "      <td>0</td>\n",
       "      <td>...</td>\n",
       "      <td>774</td>\n",
       "      <td>0</td>\n",
       "      <td>108</td>\n",
       "      <td>0</td>\n",
       "      <td>0</td>\n",
       "      <td>260</td>\n",
       "      <td>0</td>\n",
       "      <td>0</td>\n",
       "      <td>7</td>\n",
       "      <td>2007</td>\n",
       "    </tr>\n",
       "    <tr>\n",
       "      <th>871</th>\n",
       "      <td>20</td>\n",
       "      <td>60.0</td>\n",
       "      <td>6600</td>\n",
       "      <td>5</td>\n",
       "      <td>5</td>\n",
       "      <td>1962</td>\n",
       "      <td>1962</td>\n",
       "      <td>0.0</td>\n",
       "      <td>0</td>\n",
       "      <td>0</td>\n",
       "      <td>...</td>\n",
       "      <td>308</td>\n",
       "      <td>0</td>\n",
       "      <td>0</td>\n",
       "      <td>0</td>\n",
       "      <td>0</td>\n",
       "      <td>0</td>\n",
       "      <td>0</td>\n",
       "      <td>0</td>\n",
       "      <td>8</td>\n",
       "      <td>2009</td>\n",
       "    </tr>\n",
       "    <tr>\n",
       "      <th>93</th>\n",
       "      <td>30</td>\n",
       "      <td>80.0</td>\n",
       "      <td>13360</td>\n",
       "      <td>5</td>\n",
       "      <td>7</td>\n",
       "      <td>1921</td>\n",
       "      <td>2006</td>\n",
       "      <td>0.0</td>\n",
       "      <td>713</td>\n",
       "      <td>0</td>\n",
       "      <td>...</td>\n",
       "      <td>432</td>\n",
       "      <td>0</td>\n",
       "      <td>0</td>\n",
       "      <td>44</td>\n",
       "      <td>0</td>\n",
       "      <td>0</td>\n",
       "      <td>0</td>\n",
       "      <td>0</td>\n",
       "      <td>8</td>\n",
       "      <td>2009</td>\n",
       "    </tr>\n",
       "    <tr>\n",
       "      <th>818</th>\n",
       "      <td>20</td>\n",
       "      <td>NaN</td>\n",
       "      <td>13265</td>\n",
       "      <td>8</td>\n",
       "      <td>5</td>\n",
       "      <td>2002</td>\n",
       "      <td>2002</td>\n",
       "      <td>148.0</td>\n",
       "      <td>1218</td>\n",
       "      <td>0</td>\n",
       "      <td>...</td>\n",
       "      <td>857</td>\n",
       "      <td>150</td>\n",
       "      <td>59</td>\n",
       "      <td>0</td>\n",
       "      <td>0</td>\n",
       "      <td>0</td>\n",
       "      <td>0</td>\n",
       "      <td>0</td>\n",
       "      <td>7</td>\n",
       "      <td>2008</td>\n",
       "    </tr>\n",
       "    <tr>\n",
       "      <th>303</th>\n",
       "      <td>20</td>\n",
       "      <td>118.0</td>\n",
       "      <td>13704</td>\n",
       "      <td>7</td>\n",
       "      <td>5</td>\n",
       "      <td>2001</td>\n",
       "      <td>2002</td>\n",
       "      <td>150.0</td>\n",
       "      <td>0</td>\n",
       "      <td>0</td>\n",
       "      <td>...</td>\n",
       "      <td>843</td>\n",
       "      <td>468</td>\n",
       "      <td>81</td>\n",
       "      <td>0</td>\n",
       "      <td>0</td>\n",
       "      <td>0</td>\n",
       "      <td>0</td>\n",
       "      <td>0</td>\n",
       "      <td>1</td>\n",
       "      <td>2006</td>\n",
       "    </tr>\n",
       "  </tbody>\n",
       "</table>\n",
       "<p>5 rows × 36 columns</p>\n",
       "</div>"
      ],
      "text/plain": [
       "     MSSubClass  LotFrontage  LotArea  OverallQual  OverallCond  YearBuilt  \\\n",
       "Id                                                                           \n",
       "619          20         90.0    11694            9            5       2007   \n",
       "871          20         60.0     6600            5            5       1962   \n",
       "93           30         80.0    13360            5            7       1921   \n",
       "818          20          NaN    13265            8            5       2002   \n",
       "303          20        118.0    13704            7            5       2001   \n",
       "\n",
       "     YearRemodAdd  MasVnrArea  BsmtFinSF1  BsmtFinSF2  ...  GarageArea  \\\n",
       "Id                                                     ...               \n",
       "619          2007       452.0          48           0  ...         774   \n",
       "871          1962         0.0           0           0  ...         308   \n",
       "93           2006         0.0         713           0  ...         432   \n",
       "818          2002       148.0        1218           0  ...         857   \n",
       "303          2002       150.0           0           0  ...         843   \n",
       "\n",
       "     WoodDeckSF  OpenPorchSF  EnclosedPorch  3SsnPorch  ScreenPorch  PoolArea  \\\n",
       "Id                                                                              \n",
       "619           0          108              0          0          260         0   \n",
       "871           0            0              0          0            0         0   \n",
       "93            0            0             44          0            0         0   \n",
       "818         150           59              0          0            0         0   \n",
       "303         468           81              0          0            0         0   \n",
       "\n",
       "     MiscVal  MoSold  YrSold  \n",
       "Id                            \n",
       "619        0       7    2007  \n",
       "871        0       8    2009  \n",
       "93         0       8    2009  \n",
       "818        0       7    2008  \n",
       "303        0       1    2006  \n",
       "\n",
       "[5 rows x 36 columns]"
      ]
     },
     "execution_count": 3,
     "metadata": {},
     "output_type": "execute_result"
    }
   ],
   "source": [
    "X_train.head()"
   ]
  },
  {
   "cell_type": "markdown",
   "id": "20467424",
   "metadata": {
    "papermill": {
     "duration": 0.011461,
     "end_time": "2023-06-30T10:01:19.642786",
     "exception": false,
     "start_time": "2023-06-30T10:01:19.631325",
     "status": "completed"
    },
    "tags": []
   },
   "source": [
    "You can already see a few missing values in the first several rows.  In the next step, you'll obtain a more comprehensive understanding of the missing values in the dataset.\n",
    "\n",
    "# Step 1: Preliminary investigation\n",
    "\n",
    "Run the code cell below without changes."
   ]
  },
  {
   "cell_type": "code",
   "execution_count": 4,
   "id": "fe689cd1",
   "metadata": {
    "execution": {
     "iopub.execute_input": "2023-06-30T10:01:19.668474Z",
     "iopub.status.busy": "2023-06-30T10:01:19.667687Z",
     "iopub.status.idle": "2023-06-30T10:01:19.676703Z",
     "shell.execute_reply": "2023-06-30T10:01:19.675441Z"
    },
    "papermill": {
     "duration": 0.024422,
     "end_time": "2023-06-30T10:01:19.679040",
     "exception": false,
     "start_time": "2023-06-30T10:01:19.654618",
     "status": "completed"
    },
    "tags": []
   },
   "outputs": [
    {
     "name": "stdout",
     "output_type": "stream",
     "text": [
      "(1168, 36)\n",
      "LotFrontage    212\n",
      "MasVnrArea       6\n",
      "GarageYrBlt     58\n",
      "dtype: int64\n"
     ]
    }
   ],
   "source": [
    "# Shape of training data (num_rows, num_columns)\n",
    "print(X_train.shape)\n",
    "\n",
    "# Number of missing values in each column of training data\n",
    "missing_val_count_by_column = (X_train.isnull().sum())\n",
    "print(missing_val_count_by_column[missing_val_count_by_column > 0])"
   ]
  },
  {
   "cell_type": "markdown",
   "id": "36d87ec3",
   "metadata": {
    "papermill": {
     "duration": 0.01202,
     "end_time": "2023-06-30T10:01:19.703012",
     "exception": false,
     "start_time": "2023-06-30T10:01:19.690992",
     "status": "completed"
    },
    "tags": []
   },
   "source": [
    "### Part A\n",
    "\n",
    "Use the above output to answer the questions below."
   ]
  },
  {
   "cell_type": "code",
   "execution_count": 5,
   "id": "4706ff55",
   "metadata": {
    "execution": {
     "iopub.execute_input": "2023-06-30T10:01:19.729991Z",
     "iopub.status.busy": "2023-06-30T10:01:19.729138Z",
     "iopub.status.idle": "2023-06-30T10:01:19.739466Z",
     "shell.execute_reply": "2023-06-30T10:01:19.738314Z"
    },
    "papermill": {
     "duration": 0.026395,
     "end_time": "2023-06-30T10:01:19.741937",
     "exception": false,
     "start_time": "2023-06-30T10:01:19.715542",
     "status": "completed"
    },
    "tags": []
   },
   "outputs": [
    {
     "data": {
      "application/javascript": [
       "parent.postMessage({\"jupyterEvent\": \"custom.exercise_interaction\", \"data\": {\"outcomeType\": 1, \"valueTowardsCompletion\": 1.0, \"interactionType\": 1, \"questionType\": 1, \"questionId\": \"1.1_InvestigateEquality\", \"learnToolsVersion\": \"0.3.4\", \"failureMessage\": \"\", \"exceptionClass\": \"\", \"trace\": \"\"}}, \"*\")"
      ],
      "text/plain": [
       "<IPython.core.display.Javascript object>"
      ]
     },
     "metadata": {},
     "output_type": "display_data"
    },
    {
     "data": {
      "text/markdown": [
       "<span style=\"color:#33cc33\">Correct</span>"
      ],
      "text/plain": [
       "Correct"
      ]
     },
     "metadata": {},
     "output_type": "display_data"
    }
   ],
   "source": [
    "# Fill in the line below: How many rows are in the training data?\n",
    "num_rows = 1168\n",
    "\n",
    "# Fill in the line below: How many columns in the training data\n",
    "# have missing values?\n",
    "num_cols_with_missing = 3\n",
    "\n",
    "# Fill in the line below: How many missing entries are contained in \n",
    "# all of the training data?\n",
    "tot_missing = 212 + 6 + 58\n",
    "\n",
    "# Check your answers\n",
    "step_1.a.check()"
   ]
  },
  {
   "cell_type": "code",
   "execution_count": 6,
   "id": "9a02a471",
   "metadata": {
    "execution": {
     "iopub.execute_input": "2023-06-30T10:01:19.769194Z",
     "iopub.status.busy": "2023-06-30T10:01:19.768049Z",
     "iopub.status.idle": "2023-06-30T10:01:19.772503Z",
     "shell.execute_reply": "2023-06-30T10:01:19.771687Z"
    },
    "papermill": {
     "duration": 0.020368,
     "end_time": "2023-06-30T10:01:19.774759",
     "exception": false,
     "start_time": "2023-06-30T10:01:19.754391",
     "status": "completed"
    },
    "tags": []
   },
   "outputs": [],
   "source": [
    "# Lines below will give you a hint or solution code\n",
    "#step_1.a.hint()\n",
    "#step_1.a.solution()"
   ]
  },
  {
   "cell_type": "markdown",
   "id": "0da5a48e",
   "metadata": {
    "papermill": {
     "duration": 0.012245,
     "end_time": "2023-06-30T10:01:19.799503",
     "exception": false,
     "start_time": "2023-06-30T10:01:19.787258",
     "status": "completed"
    },
    "tags": []
   },
   "source": [
    "### Part B\n",
    "Considering your answers above, what do you think is likely the best approach to dealing with the missing values?"
   ]
  },
  {
   "cell_type": "code",
   "execution_count": 7,
   "id": "df4e1c23",
   "metadata": {
    "execution": {
     "iopub.execute_input": "2023-06-30T10:01:19.826466Z",
     "iopub.status.busy": "2023-06-30T10:01:19.826037Z",
     "iopub.status.idle": "2023-06-30T10:01:19.835396Z",
     "shell.execute_reply": "2023-06-30T10:01:19.834501Z"
    },
    "papermill": {
     "duration": 0.025235,
     "end_time": "2023-06-30T10:01:19.837550",
     "exception": false,
     "start_time": "2023-06-30T10:01:19.812315",
     "status": "completed"
    },
    "tags": []
   },
   "outputs": [
    {
     "data": {
      "application/javascript": [
       "parent.postMessage({\"jupyterEvent\": \"custom.exercise_interaction\", \"data\": {\"outcomeType\": 1, \"valueTowardsCompletion\": 1.0, \"interactionType\": 1, \"questionType\": 4, \"questionId\": \"1.2_InvestigateThought\", \"learnToolsVersion\": \"0.3.4\", \"failureMessage\": \"\", \"exceptionClass\": \"\", \"trace\": \"\"}}, \"*\")"
      ],
      "text/plain": [
       "<IPython.core.display.Javascript object>"
      ]
     },
     "metadata": {},
     "output_type": "display_data"
    },
    {
     "data": {
      "text/markdown": [
       "<span style=\"color:#33cc33\">Correct:</span> \n",
       "\n",
       "Since there are relatively few missing entries in the data (the column with the greatest percentage of missing values is missing less than 20% of its entries), we can expect that dropping columns is unlikely to yield good results.  This is because we'd be throwing away a lot of valuable data, and so imputation will likely perform better."
      ],
      "text/plain": [
       "Correct: \n",
       "\n",
       "Since there are relatively few missing entries in the data (the column with the greatest percentage of missing values is missing less than 20% of its entries), we can expect that dropping columns is unlikely to yield good results.  This is because we'd be throwing away a lot of valuable data, and so imputation will likely perform better."
      ]
     },
     "metadata": {},
     "output_type": "display_data"
    }
   ],
   "source": [
    "# Check your answer (Run this code cell to receive credit!)\n",
    "step_1.b.check()"
   ]
  },
  {
   "cell_type": "code",
   "execution_count": 8,
   "id": "1f18f688",
   "metadata": {
    "execution": {
     "iopub.execute_input": "2023-06-30T10:01:19.865679Z",
     "iopub.status.busy": "2023-06-30T10:01:19.864605Z",
     "iopub.status.idle": "2023-06-30T10:01:19.869132Z",
     "shell.execute_reply": "2023-06-30T10:01:19.868262Z"
    },
    "papermill": {
     "duration": 0.021153,
     "end_time": "2023-06-30T10:01:19.871504",
     "exception": false,
     "start_time": "2023-06-30T10:01:19.850351",
     "status": "completed"
    },
    "tags": []
   },
   "outputs": [],
   "source": [
    "#step_1.b.hint()"
   ]
  },
  {
   "cell_type": "markdown",
   "id": "079e4b9f",
   "metadata": {
    "papermill": {
     "duration": 0.012396,
     "end_time": "2023-06-30T10:01:19.897332",
     "exception": false,
     "start_time": "2023-06-30T10:01:19.884936",
     "status": "completed"
    },
    "tags": []
   },
   "source": [
    "To compare different approaches to dealing with missing values, you'll use the same `score_dataset()` function from the tutorial.  This function reports the [mean absolute error](https://en.wikipedia.org/wiki/Mean_absolute_error) (MAE) from a random forest model."
   ]
  },
  {
   "cell_type": "code",
   "execution_count": 9,
   "id": "5d5f5345",
   "metadata": {
    "execution": {
     "iopub.execute_input": "2023-06-30T10:01:19.924589Z",
     "iopub.status.busy": "2023-06-30T10:01:19.924160Z",
     "iopub.status.idle": "2023-06-30T10:01:20.310412Z",
     "shell.execute_reply": "2023-06-30T10:01:20.309513Z"
    },
    "papermill": {
     "duration": 0.402859,
     "end_time": "2023-06-30T10:01:20.312955",
     "exception": false,
     "start_time": "2023-06-30T10:01:19.910096",
     "status": "completed"
    },
    "tags": []
   },
   "outputs": [],
   "source": [
    "from sklearn.ensemble import RandomForestRegressor\n",
    "from sklearn.metrics import mean_absolute_error\n",
    "\n",
    "# Function for comparing different approaches\n",
    "def score_dataset(X_train, X_valid, y_train, y_valid):\n",
    "    model = RandomForestRegressor(n_estimators=100, random_state=0)\n",
    "    model.fit(X_train, y_train)\n",
    "    preds = model.predict(X_valid)\n",
    "    return mean_absolute_error(y_valid, preds)"
   ]
  },
  {
   "cell_type": "markdown",
   "id": "de9e5ef0",
   "metadata": {
    "papermill": {
     "duration": 0.012562,
     "end_time": "2023-06-30T10:01:20.339309",
     "exception": false,
     "start_time": "2023-06-30T10:01:20.326747",
     "status": "completed"
    },
    "tags": []
   },
   "source": [
    "# Step 2: Drop columns with missing values\n",
    "\n",
    "In this step, you'll preprocess the data in `X_train` and `X_valid` to remove columns with missing values.  Set the preprocessed DataFrames to `reduced_X_train` and `reduced_X_valid`, respectively.  "
   ]
  },
  {
   "cell_type": "code",
   "execution_count": 10,
   "id": "db8d8106",
   "metadata": {
    "execution": {
     "iopub.execute_input": "2023-06-30T10:01:20.367570Z",
     "iopub.status.busy": "2023-06-30T10:01:20.366533Z",
     "iopub.status.idle": "2023-06-30T10:01:20.404732Z",
     "shell.execute_reply": "2023-06-30T10:01:20.403593Z"
    },
    "papermill": {
     "duration": 0.054722,
     "end_time": "2023-06-30T10:01:20.407233",
     "exception": false,
     "start_time": "2023-06-30T10:01:20.352511",
     "status": "completed"
    },
    "tags": []
   },
   "outputs": [
    {
     "data": {
      "application/javascript": [
       "parent.postMessage({\"jupyterEvent\": \"custom.exercise_interaction\", \"data\": {\"outcomeType\": 1, \"valueTowardsCompletion\": 1.0, \"interactionType\": 1, \"questionType\": 2, \"questionId\": \"2_DropMissing\", \"learnToolsVersion\": \"0.3.4\", \"failureMessage\": \"\", \"exceptionClass\": \"\", \"trace\": \"\"}}, \"*\")"
      ],
      "text/plain": [
       "<IPython.core.display.Javascript object>"
      ]
     },
     "metadata": {},
     "output_type": "display_data"
    },
    {
     "data": {
      "text/markdown": [
       "<span style=\"color:#33cc33\">Correct</span>"
      ],
      "text/plain": [
       "Correct"
      ]
     },
     "metadata": {},
     "output_type": "display_data"
    }
   ],
   "source": [
    "# Fill in the line below: get names of columns with missing values\n",
    "col_with_missing_val=[col for col in X_train.columns if X_train[col].isnull().any()] # Your code here\n",
    "\n",
    "# Fill in the lines below: drop columns in training and validation data\n",
    "reduced_X_train = X_train.drop(col_with_missing_val, axis=1)\n",
    "reduced_X_valid = X_valid.drop(col_with_missing_val, axis=1)\n",
    "\n",
    "# Check your answers\n",
    "step_2.check()"
   ]
  },
  {
   "cell_type": "code",
   "execution_count": 11,
   "id": "e4ab21f6",
   "metadata": {
    "execution": {
     "iopub.execute_input": "2023-06-30T10:01:20.435647Z",
     "iopub.status.busy": "2023-06-30T10:01:20.434579Z",
     "iopub.status.idle": "2023-06-30T10:01:20.439467Z",
     "shell.execute_reply": "2023-06-30T10:01:20.438645Z"
    },
    "papermill": {
     "duration": 0.021365,
     "end_time": "2023-06-30T10:01:20.441690",
     "exception": false,
     "start_time": "2023-06-30T10:01:20.420325",
     "status": "completed"
    },
    "tags": []
   },
   "outputs": [],
   "source": [
    "# Lines below will give you a hint or solution code\n",
    "#step_2.hint()\n",
    "#step_2.solution()"
   ]
  },
  {
   "cell_type": "markdown",
   "id": "1564d12a",
   "metadata": {
    "papermill": {
     "duration": 0.01254,
     "end_time": "2023-06-30T10:01:20.467172",
     "exception": false,
     "start_time": "2023-06-30T10:01:20.454632",
     "status": "completed"
    },
    "tags": []
   },
   "source": [
    "Run the next code cell without changes to obtain the MAE for this approach."
   ]
  },
  {
   "cell_type": "code",
   "execution_count": 12,
   "id": "6f04997b",
   "metadata": {
    "execution": {
     "iopub.execute_input": "2023-06-30T10:01:20.495646Z",
     "iopub.status.busy": "2023-06-30T10:01:20.494837Z",
     "iopub.status.idle": "2023-06-30T10:01:21.812985Z",
     "shell.execute_reply": "2023-06-30T10:01:21.811149Z"
    },
    "papermill": {
     "duration": 1.335587,
     "end_time": "2023-06-30T10:01:21.815949",
     "exception": false,
     "start_time": "2023-06-30T10:01:20.480362",
     "status": "completed"
    },
    "tags": []
   },
   "outputs": [
    {
     "name": "stdout",
     "output_type": "stream",
     "text": [
      "MAE (Drop columns with missing values):\n",
      "17837.82570776256\n"
     ]
    }
   ],
   "source": [
    "print(\"MAE (Drop columns with missing values):\")\n",
    "print(score_dataset(reduced_X_train, reduced_X_valid, y_train, y_valid))"
   ]
  },
  {
   "cell_type": "markdown",
   "id": "e77a42a0",
   "metadata": {
    "papermill": {
     "duration": 0.012863,
     "end_time": "2023-06-30T10:01:21.842271",
     "exception": false,
     "start_time": "2023-06-30T10:01:21.829408",
     "status": "completed"
    },
    "tags": []
   },
   "source": [
    "# Step 3: Imputation\n",
    "\n",
    "### Part A\n",
    "\n",
    "Use the next code cell to impute missing values with the mean value along each column.  Set the preprocessed DataFrames to `imputed_X_train` and `imputed_X_valid`.  Make sure that the column names match those in `X_train` and `X_valid`."
   ]
  },
  {
   "cell_type": "code",
   "execution_count": 13,
   "id": "f9a9fa9e",
   "metadata": {
    "execution": {
     "iopub.execute_input": "2023-06-30T10:01:21.870493Z",
     "iopub.status.busy": "2023-06-30T10:01:21.869931Z",
     "iopub.status.idle": "2023-06-30T10:01:21.912750Z",
     "shell.execute_reply": "2023-06-30T10:01:21.911691Z"
    },
    "papermill": {
     "duration": 0.059911,
     "end_time": "2023-06-30T10:01:21.915404",
     "exception": false,
     "start_time": "2023-06-30T10:01:21.855493",
     "status": "completed"
    },
    "tags": []
   },
   "outputs": [
    {
     "data": {
      "application/javascript": [
       "parent.postMessage({\"jupyterEvent\": \"custom.exercise_interaction\", \"data\": {\"outcomeType\": 1, \"valueTowardsCompletion\": 1.0, \"interactionType\": 1, \"questionType\": 2, \"questionId\": \"3.1_ImputeCode\", \"learnToolsVersion\": \"0.3.4\", \"failureMessage\": \"\", \"exceptionClass\": \"\", \"trace\": \"\"}}, \"*\")"
      ],
      "text/plain": [
       "<IPython.core.display.Javascript object>"
      ]
     },
     "metadata": {},
     "output_type": "display_data"
    },
    {
     "data": {
      "text/markdown": [
       "<span style=\"color:#33cc33\">Correct</span>"
      ],
      "text/plain": [
       "Correct"
      ]
     },
     "metadata": {},
     "output_type": "display_data"
    }
   ],
   "source": [
    "from sklearn.impute import SimpleImputer\n",
    "\n",
    "# Fill in the lines below: imputation\n",
    "my_imputer = SimpleImputer() # Your code here\n",
    "imputed_X_train = pd.DataFrame(my_imputer.fit_transform(X_train))\n",
    "imputed_X_valid = pd.DataFrame(my_imputer.transform(X_valid))\n",
    "\n",
    "# Fill in the lines below: imputation removed column names; put them back\n",
    "imputed_X_train.columns = X_train.columns\n",
    "imputed_X_valid.columns = X_valid.columns\n",
    "\n",
    "# Check your answers\n",
    "step_3.a.check()"
   ]
  },
  {
   "cell_type": "code",
   "execution_count": 14,
   "id": "0c192f8d",
   "metadata": {
    "execution": {
     "iopub.execute_input": "2023-06-30T10:01:21.944494Z",
     "iopub.status.busy": "2023-06-30T10:01:21.944101Z",
     "iopub.status.idle": "2023-06-30T10:01:21.948383Z",
     "shell.execute_reply": "2023-06-30T10:01:21.947295Z"
    },
    "papermill": {
     "duration": 0.021747,
     "end_time": "2023-06-30T10:01:21.950850",
     "exception": false,
     "start_time": "2023-06-30T10:01:21.929103",
     "status": "completed"
    },
    "tags": []
   },
   "outputs": [],
   "source": [
    "# Lines below will give you a hint or solution code\n",
    "#step_3.a.hint()\n",
    "#step_3.a.solution()"
   ]
  },
  {
   "cell_type": "markdown",
   "id": "d51dc16e",
   "metadata": {
    "papermill": {
     "duration": 0.013189,
     "end_time": "2023-06-30T10:01:21.977628",
     "exception": false,
     "start_time": "2023-06-30T10:01:21.964439",
     "status": "completed"
    },
    "tags": []
   },
   "source": [
    "Run the next code cell without changes to obtain the MAE for this approach."
   ]
  },
  {
   "cell_type": "code",
   "execution_count": 15,
   "id": "4468b1ca",
   "metadata": {
    "execution": {
     "iopub.execute_input": "2023-06-30T10:01:22.006887Z",
     "iopub.status.busy": "2023-06-30T10:01:22.006254Z",
     "iopub.status.idle": "2023-06-30T10:01:23.445553Z",
     "shell.execute_reply": "2023-06-30T10:01:23.444463Z"
    },
    "papermill": {
     "duration": 1.456652,
     "end_time": "2023-06-30T10:01:23.447927",
     "exception": false,
     "start_time": "2023-06-30T10:01:21.991275",
     "status": "completed"
    },
    "tags": []
   },
   "outputs": [
    {
     "name": "stdout",
     "output_type": "stream",
     "text": [
      "MAE (Imputation):\n",
      "18062.894611872147\n"
     ]
    }
   ],
   "source": [
    "print(\"MAE (Imputation):\")\n",
    "print(score_dataset(imputed_X_train, imputed_X_valid, y_train, y_valid))"
   ]
  },
  {
   "cell_type": "markdown",
   "id": "39a886e9",
   "metadata": {
    "papermill": {
     "duration": 0.014273,
     "end_time": "2023-06-30T10:01:23.476453",
     "exception": false,
     "start_time": "2023-06-30T10:01:23.462180",
     "status": "completed"
    },
    "tags": []
   },
   "source": [
    "### Part B\n",
    "\n",
    "Compare the MAE from each approach.  Does anything surprise you about the results?  Why do you think one approach performed better than the other?"
   ]
  },
  {
   "cell_type": "code",
   "execution_count": 16,
   "id": "c0cb8ac9",
   "metadata": {
    "execution": {
     "iopub.execute_input": "2023-06-30T10:01:23.505885Z",
     "iopub.status.busy": "2023-06-30T10:01:23.505517Z",
     "iopub.status.idle": "2023-06-30T10:01:23.514591Z",
     "shell.execute_reply": "2023-06-30T10:01:23.513512Z"
    },
    "papermill": {
     "duration": 0.026476,
     "end_time": "2023-06-30T10:01:23.516743",
     "exception": false,
     "start_time": "2023-06-30T10:01:23.490267",
     "status": "completed"
    },
    "tags": []
   },
   "outputs": [
    {
     "data": {
      "application/javascript": [
       "parent.postMessage({\"jupyterEvent\": \"custom.exercise_interaction\", \"data\": {\"outcomeType\": 1, \"valueTowardsCompletion\": 1.0, \"interactionType\": 1, \"questionType\": 4, \"questionId\": \"3.2_ImputeThought\", \"learnToolsVersion\": \"0.3.4\", \"failureMessage\": \"\", \"exceptionClass\": \"\", \"trace\": \"\"}}, \"*\")"
      ],
      "text/plain": [
       "<IPython.core.display.Javascript object>"
      ]
     },
     "metadata": {},
     "output_type": "display_data"
    },
    {
     "data": {
      "text/markdown": [
       "<span style=\"color:#33cc33\">Correct:</span> \n",
       "\n",
       "Given that thre are so few missing values in the dataset, we'd expect imputation to perform better than dropping columns entirely.  However, we see that dropping columns performs slightly better!  While this can probably partially be attributed to noise in the dataset, another potential explanation is that the imputation method is not a great match to this dataset.  That is, maybe instead of filling in the mean value, it makes more sense to set every missing value to a value of 0, to fill in the most frequently encountered value, or to use some other method.  For instance, consider the `GarageYrBlt` column (which indicates the year that the garage was built).  It's likely that in some cases, a missing value could indicate a house that does not have a garage.  Does it make more sense to fill in the median value along each column in this case?  Or could we get better results by filling in the minimum value along each column?  It's not quite clear what's best in this case, but perhaps we can rule out some options immediately - for instance, setting missing values in this column to 0 is likely to yield horrible results!"
      ],
      "text/plain": [
       "Correct: \n",
       "\n",
       "Given that thre are so few missing values in the dataset, we'd expect imputation to perform better than dropping columns entirely.  However, we see that dropping columns performs slightly better!  While this can probably partially be attributed to noise in the dataset, another potential explanation is that the imputation method is not a great match to this dataset.  That is, maybe instead of filling in the mean value, it makes more sense to set every missing value to a value of 0, to fill in the most frequently encountered value, or to use some other method.  For instance, consider the `GarageYrBlt` column (which indicates the year that the garage was built).  It's likely that in some cases, a missing value could indicate a house that does not have a garage.  Does it make more sense to fill in the median value along each column in this case?  Or could we get better results by filling in the minimum value along each column?  It's not quite clear what's best in this case, but perhaps we can rule out some options immediately - for instance, setting missing values in this column to 0 is likely to yield horrible results!"
      ]
     },
     "metadata": {},
     "output_type": "display_data"
    }
   ],
   "source": [
    "# Check your answer (Run this code cell to receive credit!)\n",
    "step_3.b.check()"
   ]
  },
  {
   "cell_type": "code",
   "execution_count": 17,
   "id": "c5bb3249",
   "metadata": {
    "execution": {
     "iopub.execute_input": "2023-06-30T10:01:23.546708Z",
     "iopub.status.busy": "2023-06-30T10:01:23.546313Z",
     "iopub.status.idle": "2023-06-30T10:01:23.551325Z",
     "shell.execute_reply": "2023-06-30T10:01:23.550232Z"
    },
    "papermill": {
     "duration": 0.022561,
     "end_time": "2023-06-30T10:01:23.553585",
     "exception": false,
     "start_time": "2023-06-30T10:01:23.531024",
     "status": "completed"
    },
    "tags": []
   },
   "outputs": [],
   "source": [
    "#step_3.b.hint()"
   ]
  },
  {
   "cell_type": "markdown",
   "id": "c096ce9c",
   "metadata": {
    "papermill": {
     "duration": 0.013844,
     "end_time": "2023-06-30T10:01:23.581565",
     "exception": false,
     "start_time": "2023-06-30T10:01:23.567721",
     "status": "completed"
    },
    "tags": []
   },
   "source": [
    "# Step 4: Generate test predictions\n",
    "\n",
    "In this final step, you'll use any approach of your choosing to deal with missing values.  Once you've preprocessed the training and validation features, you'll train and evaluate a random forest model.  Then, you'll preprocess the test data before generating predictions that can be submitted to the competition!\n",
    "\n",
    "### Part A\n",
    "\n",
    "Use the next code cell to preprocess the training and validation data.  Set the preprocessed DataFrames to `final_X_train` and `final_X_valid`.  **You can use any approach of your choosing here!**  in order for this step to be marked as correct, you need only ensure:\n",
    "- the preprocessed DataFrames have the same number of columns,\n",
    "- the preprocessed DataFrames have no missing values, \n",
    "- `final_X_train` and `y_train` have the same number of rows, and\n",
    "- `final_X_valid` and `y_valid` have the same number of rows."
   ]
  },
  {
   "cell_type": "code",
   "execution_count": 18,
   "id": "3f5ca3c9",
   "metadata": {
    "execution": {
     "iopub.execute_input": "2023-06-30T10:01:23.612125Z",
     "iopub.status.busy": "2023-06-30T10:01:23.611469Z",
     "iopub.status.idle": "2023-06-30T10:01:23.643716Z",
     "shell.execute_reply": "2023-06-30T10:01:23.642481Z"
    },
    "papermill": {
     "duration": 0.050258,
     "end_time": "2023-06-30T10:01:23.646155",
     "exception": false,
     "start_time": "2023-06-30T10:01:23.595897",
     "status": "completed"
    },
    "tags": []
   },
   "outputs": [
    {
     "data": {
      "application/javascript": [
       "parent.postMessage({\"jupyterEvent\": \"custom.exercise_interaction\", \"data\": {\"outcomeType\": 1, \"valueTowardsCompletion\": 1.0, \"interactionType\": 1, \"questionType\": 2, \"questionId\": \"4.1_PredsCodeA\", \"learnToolsVersion\": \"0.3.4\", \"failureMessage\": \"\", \"exceptionClass\": \"\", \"trace\": \"\"}}, \"*\")"
      ],
      "text/plain": [
       "<IPython.core.display.Javascript object>"
      ]
     },
     "metadata": {},
     "output_type": "display_data"
    },
    {
     "data": {
      "text/markdown": [
       "<span style=\"color:#33cc33\">Correct</span>"
      ],
      "text/plain": [
       "Correct"
      ]
     },
     "metadata": {},
     "output_type": "display_data"
    }
   ],
   "source": [
    "# Preprocessed training and validation features\n",
    "final_imputer = SimpleImputer(strategy='median')\n",
    "final_X_train = pd.DataFrame(final_imputer.fit_transform(X_train))\n",
    "final_X_valid = pd.DataFrame(final_imputer.transform(X_valid))\n",
    "\n",
    "# Check your answers\n",
    "step_4.a.check()"
   ]
  },
  {
   "cell_type": "code",
   "execution_count": 19,
   "id": "0a09b99f",
   "metadata": {
    "execution": {
     "iopub.execute_input": "2023-06-30T10:01:23.682365Z",
     "iopub.status.busy": "2023-06-30T10:01:23.681211Z",
     "iopub.status.idle": "2023-06-30T10:01:23.687036Z",
     "shell.execute_reply": "2023-06-30T10:01:23.685353Z"
    },
    "papermill": {
     "duration": 0.028706,
     "end_time": "2023-06-30T10:01:23.689281",
     "exception": false,
     "start_time": "2023-06-30T10:01:23.660575",
     "status": "completed"
    },
    "tags": []
   },
   "outputs": [],
   "source": [
    "# Lines below will give you a hint or solution code\n",
    "#step_4.a.hint()\n",
    "#step_4.a.solution()"
   ]
  },
  {
   "cell_type": "markdown",
   "id": "2edd25a3",
   "metadata": {
    "papermill": {
     "duration": 0.01407,
     "end_time": "2023-06-30T10:01:23.717933",
     "exception": false,
     "start_time": "2023-06-30T10:01:23.703863",
     "status": "completed"
    },
    "tags": []
   },
   "source": [
    "Run the next code cell to train and evaluate a random forest model.  (*Note that we don't use the `score_dataset()` function above, because we will soon use the trained model to generate test predictions!*)"
   ]
  },
  {
   "cell_type": "code",
   "execution_count": 20,
   "id": "7665c6db",
   "metadata": {
    "execution": {
     "iopub.execute_input": "2023-06-30T10:01:23.748798Z",
     "iopub.status.busy": "2023-06-30T10:01:23.748060Z",
     "iopub.status.idle": "2023-06-30T10:01:25.211107Z",
     "shell.execute_reply": "2023-06-30T10:01:25.209801Z"
    },
    "papermill": {
     "duration": 1.481454,
     "end_time": "2023-06-30T10:01:25.213785",
     "exception": false,
     "start_time": "2023-06-30T10:01:23.732331",
     "status": "completed"
    },
    "tags": []
   },
   "outputs": [
    {
     "name": "stdout",
     "output_type": "stream",
     "text": [
      "MAE (Your approach):\n",
      "17791.59899543379\n"
     ]
    }
   ],
   "source": [
    "# Define and fit model\n",
    "model = RandomForestRegressor(n_estimators=100, random_state=0)\n",
    "model.fit(final_X_train, y_train)\n",
    "\n",
    "# Get validation predictions and MAE\n",
    "preds_valid = model.predict(final_X_valid)\n",
    "print(\"MAE (Your approach):\")\n",
    "print(mean_absolute_error(y_valid, preds_valid))"
   ]
  },
  {
   "cell_type": "markdown",
   "id": "706e676f",
   "metadata": {
    "papermill": {
     "duration": 0.014342,
     "end_time": "2023-06-30T10:01:25.243627",
     "exception": false,
     "start_time": "2023-06-30T10:01:25.229285",
     "status": "completed"
    },
    "tags": []
   },
   "source": [
    "### Part B\n",
    "\n",
    "Use the next code cell to preprocess your test data.  Make sure that you use a method that agrees with how you preprocessed the training and validation data, and set the preprocessed test features to `final_X_test`.\n",
    "\n",
    "Then, use the preprocessed test features and the trained model to generate test predictions in `preds_test`.\n",
    "\n",
    "In order for this step to be marked correct, you need only ensure:\n",
    "- the preprocessed test DataFrame has no missing values, and\n",
    "- `final_X_test` has the same number of rows as `X_test`."
   ]
  },
  {
   "cell_type": "code",
   "execution_count": 21,
   "id": "4ee80bbc",
   "metadata": {
    "execution": {
     "iopub.execute_input": "2023-06-30T10:01:25.274713Z",
     "iopub.status.busy": "2023-06-30T10:01:25.274295Z",
     "iopub.status.idle": "2023-06-30T10:01:25.329556Z",
     "shell.execute_reply": "2023-06-30T10:01:25.328374Z"
    },
    "papermill": {
     "duration": 0.073489,
     "end_time": "2023-06-30T10:01:25.331918",
     "exception": false,
     "start_time": "2023-06-30T10:01:25.258429",
     "status": "completed"
    },
    "tags": []
   },
   "outputs": [
    {
     "data": {
      "application/javascript": [
       "parent.postMessage({\"jupyterEvent\": \"custom.exercise_interaction\", \"data\": {\"outcomeType\": 1, \"valueTowardsCompletion\": 1.0, \"interactionType\": 1, \"questionType\": 2, \"questionId\": \"4.2_PredsCodeB\", \"learnToolsVersion\": \"0.3.4\", \"failureMessage\": \"\", \"exceptionClass\": \"\", \"trace\": \"\"}}, \"*\")"
      ],
      "text/plain": [
       "<IPython.core.display.Javascript object>"
      ]
     },
     "metadata": {},
     "output_type": "display_data"
    },
    {
     "data": {
      "text/markdown": [
       "<span style=\"color:#33cc33\">Correct</span>"
      ],
      "text/plain": [
       "Correct"
      ]
     },
     "metadata": {},
     "output_type": "display_data"
    }
   ],
   "source": [
    "# Fill in the line below: preprocess test data\n",
    "final_X_test = pd.DataFrame(final_imputer.transform(X_test))\n",
    "\n",
    "# Fill in the line below: get test predictions\n",
    "preds_test = model.predict(final_X_test)\n",
    "\n",
    "# Check your answers\n",
    "step_4.b.check()"
   ]
  },
  {
   "cell_type": "code",
   "execution_count": 22,
   "id": "c30aabc6",
   "metadata": {
    "execution": {
     "iopub.execute_input": "2023-06-30T10:01:25.363926Z",
     "iopub.status.busy": "2023-06-30T10:01:25.363509Z",
     "iopub.status.idle": "2023-06-30T10:01:25.368250Z",
     "shell.execute_reply": "2023-06-30T10:01:25.367051Z"
    },
    "papermill": {
     "duration": 0.023749,
     "end_time": "2023-06-30T10:01:25.370663",
     "exception": false,
     "start_time": "2023-06-30T10:01:25.346914",
     "status": "completed"
    },
    "tags": []
   },
   "outputs": [],
   "source": [
    "# Lines below will give you a hint or solution code\n",
    "#step_4.b.hint()\n",
    "#step_4.b.solution()"
   ]
  },
  {
   "cell_type": "markdown",
   "id": "c833bf85",
   "metadata": {
    "papermill": {
     "duration": 0.014647,
     "end_time": "2023-06-30T10:01:25.400278",
     "exception": false,
     "start_time": "2023-06-30T10:01:25.385631",
     "status": "completed"
    },
    "tags": []
   },
   "source": [
    "Run the next code cell without changes to save your results to a CSV file that can be submitted directly to the competition."
   ]
  },
  {
   "cell_type": "code",
   "execution_count": 23,
   "id": "82a42008",
   "metadata": {
    "execution": {
     "iopub.execute_input": "2023-06-30T10:01:25.432797Z",
     "iopub.status.busy": "2023-06-30T10:01:25.432417Z",
     "iopub.status.idle": "2023-06-30T10:01:25.448781Z",
     "shell.execute_reply": "2023-06-30T10:01:25.447627Z"
    },
    "papermill": {
     "duration": 0.036035,
     "end_time": "2023-06-30T10:01:25.451461",
     "exception": false,
     "start_time": "2023-06-30T10:01:25.415426",
     "status": "completed"
    },
    "tags": []
   },
   "outputs": [],
   "source": [
    "# Save test predictions to file\n",
    "output = pd.DataFrame({'Id': X_test.index,\n",
    "                       'SalePrice': preds_test})\n",
    "output.to_csv('submission.csv', index=False)"
   ]
  },
  {
   "cell_type": "markdown",
   "id": "b20f1a3d",
   "metadata": {
    "papermill": {
     "duration": 0.014875,
     "end_time": "2023-06-30T10:01:25.481456",
     "exception": false,
     "start_time": "2023-06-30T10:01:25.466581",
     "status": "completed"
    },
    "tags": []
   },
   "source": [
    "# Submit your results\n",
    "\n",
    "Once you have successfully completed Step 4, you're ready to submit your results to the leaderboard!  (_You also learned how to do this in the previous exercise.  If you need a reminder of how to do this, please use the instructions below._)  \n",
    "\n",
    "First, you'll need to join the competition if you haven't already.  So open a new window by clicking on [this link](https://www.kaggle.com/c/home-data-for-ml-course).  Then click on the **Join Competition** button.\n",
    "\n",
    "![join competition image](https://storage.googleapis.com/kaggle-media/learn/images/wLmFtH3.png)\n",
    "\n",
    "Next, follow the instructions below:\n",
    "1. Begin by clicking on the **Save Version** button in the top right corner of the window.  This will generate a pop-up window.  \n",
    "2. Ensure that the **Save and Run All** option is selected, and then click on the **Save** button.\n",
    "3. This generates a window in the bottom left corner of the notebook.  After it has finished running, click on the number to the right of the **Save Version** button.  This pulls up a list of versions on the right of the screen.  Click on the ellipsis **(...)** to the right of the most recent version, and select **Open in Viewer**.  This brings you into view mode of the same page. You will need to scroll down to get back to these instructions.\n",
    "4. Click on the **Data** tab near the top of the screen.  Then, click on the file you would like to submit, and click on the **Submit** button to submit your results to the leaderboard.\n",
    "\n",
    "You have now successfully submitted to the competition!\n",
    "\n",
    "If you want to keep working to improve your performance, select the **Edit** button in the top right of the screen. Then you can change your code and repeat the process. There's a lot of room to improve, and you will climb up the leaderboard as you work.\n",
    "\n",
    "\n",
    "# Keep going\n",
    "\n",
    "Move on to learn what **[categorical variables](https://www.kaggle.com/alexisbcook/categorical-variables)** are, along with how to incorporate them into your machine learning models.  Categorical variables are very common in real-world data, but you'll get an error if you try to plug them into your models without processing them first!"
   ]
  },
  {
   "cell_type": "markdown",
   "id": "5a26df5e",
   "metadata": {
    "papermill": {
     "duration": 0.015088,
     "end_time": "2023-06-30T10:01:25.511392",
     "exception": false,
     "start_time": "2023-06-30T10:01:25.496304",
     "status": "completed"
    },
    "tags": []
   },
   "source": [
    "---\n",
    "\n",
    "\n",
    "\n",
    "\n",
    "*Have questions or comments? Visit the [course discussion forum](https://www.kaggle.com/learn/intermediate-machine-learning/discussion) to chat with other learners.*"
   ]
  }
 ],
 "metadata": {
  "kernelspec": {
   "display_name": "Python 3",
   "language": "python",
   "name": "python3"
  },
  "language_info": {
   "codemirror_mode": {
    "name": "ipython",
    "version": 3
   },
   "file_extension": ".py",
   "mimetype": "text/x-python",
   "name": "python",
   "nbconvert_exporter": "python",
   "pygments_lexer": "ipython3",
   "version": "3.10.10"
  },
  "papermill": {
   "default_parameters": {},
   "duration": 21.064399,
   "end_time": "2023-06-30T10:01:26.549217",
   "environment_variables": {},
   "exception": null,
   "input_path": "__notebook__.ipynb",
   "output_path": "__notebook__.ipynb",
   "parameters": {},
   "start_time": "2023-06-30T10:01:05.484818",
   "version": "2.4.0"
  }
 },
 "nbformat": 4,
 "nbformat_minor": 5
}
