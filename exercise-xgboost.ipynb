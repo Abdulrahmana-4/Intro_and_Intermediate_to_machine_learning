{
 "cells": [
  {
   "cell_type": "markdown",
   "id": "2eb6015f",
   "metadata": {
    "papermill": {
     "duration": 0.007197,
     "end_time": "2023-07-03T01:42:13.341754",
     "exception": false,
     "start_time": "2023-07-03T01:42:13.334557",
     "status": "completed"
    },
    "tags": []
   },
   "source": [
    "**This notebook is an exercise in the [Intermediate Machine Learning](https://www.kaggle.com/learn/intermediate-machine-learning) course.  You can reference the tutorial at [this link](https://www.kaggle.com/alexisbcook/xgboost).**\n",
    "\n",
    "---\n"
   ]
  },
  {
   "cell_type": "markdown",
   "id": "69ba305b",
   "metadata": {
    "papermill": {
     "duration": 0.006437,
     "end_time": "2023-07-03T01:42:13.355477",
     "exception": false,
     "start_time": "2023-07-03T01:42:13.349040",
     "status": "completed"
    },
    "tags": []
   },
   "source": [
    "In this exercise, you will use your new knowledge to train a model with **gradient boosting**.\n",
    "\n",
    "# Setup\n",
    "\n",
    "The questions below will give you feedback on your work. Run the following cell to set up the feedback system."
   ]
  },
  {
   "cell_type": "code",
   "execution_count": 1,
   "id": "8526bda9",
   "metadata": {
    "execution": {
     "iopub.execute_input": "2023-07-03T01:42:13.372401Z",
     "iopub.status.busy": "2023-07-03T01:42:13.371914Z",
     "iopub.status.idle": "2023-07-03T01:42:16.288318Z",
     "shell.execute_reply": "2023-07-03T01:42:16.287156Z"
    },
    "papermill": {
     "duration": 2.928681,
     "end_time": "2023-07-03T01:42:16.290723",
     "exception": false,
     "start_time": "2023-07-03T01:42:13.362042",
     "status": "completed"
    },
    "tags": []
   },
   "outputs": [
    {
     "name": "stdout",
     "output_type": "stream",
     "text": [
      "Setup Complete\n"
     ]
    }
   ],
   "source": [
    "# Set up code checking\n",
    "import os\n",
    "if not os.path.exists(\"../input/train.csv\"):\n",
    "    os.symlink(\"../input/home-data-for-ml-course/train.csv\", \"../input/train.csv\")  \n",
    "    os.symlink(\"../input/home-data-for-ml-course/test.csv\", \"../input/test.csv\") \n",
    "from learntools.core import binder\n",
    "binder.bind(globals())\n",
    "from learntools.ml_intermediate.ex6 import *\n",
    "print(\"Setup Complete\")"
   ]
  },
  {
   "cell_type": "markdown",
   "id": "b033d874",
   "metadata": {
    "papermill": {
     "duration": 0.006449,
     "end_time": "2023-07-03T01:42:16.304554",
     "exception": false,
     "start_time": "2023-07-03T01:42:16.298105",
     "status": "completed"
    },
    "tags": []
   },
   "source": [
    "You will work with the [Housing Prices Competition for Kaggle Learn Users](https://www.kaggle.com/c/home-data-for-ml-course) dataset from the previous exercise. \n",
    "\n",
    "![Ames Housing dataset image](https://storage.googleapis.com/kaggle-media/learn/images/lTJVG4e.png)\n",
    "\n",
    "Run the next code cell without changes to load the training and validation sets in `X_train`, `X_valid`, `y_train`, and `y_valid`.  The test set is loaded in `X_test`."
   ]
  },
  {
   "cell_type": "code",
   "execution_count": 2,
   "id": "e5546c0b",
   "metadata": {
    "execution": {
     "iopub.execute_input": "2023-07-03T01:42:16.319465Z",
     "iopub.status.busy": "2023-07-03T01:42:16.319082Z",
     "iopub.status.idle": "2023-07-03T01:42:16.524995Z",
     "shell.execute_reply": "2023-07-03T01:42:16.523927Z"
    },
    "papermill": {
     "duration": 0.216563,
     "end_time": "2023-07-03T01:42:16.527661",
     "exception": false,
     "start_time": "2023-07-03T01:42:16.311098",
     "status": "completed"
    },
    "tags": []
   },
   "outputs": [],
   "source": [
    "import pandas as pd\n",
    "from sklearn.model_selection import train_test_split\n",
    "\n",
    "# Read the data\n",
    "X = pd.read_csv('../input/train.csv', index_col='Id')\n",
    "X_test_full = pd.read_csv('../input/test.csv', index_col='Id')\n",
    "\n",
    "# Remove rows with missing target, separate target from predictors\n",
    "X.dropna(axis=0, subset=['SalePrice'], inplace=True)\n",
    "y = X.SalePrice              \n",
    "X.drop(['SalePrice'], axis=1, inplace=True)\n",
    "\n",
    "# Break off validation set from training data\n",
    "X_train_full, X_valid_full, y_train, y_valid = train_test_split(X, y, train_size=0.8, test_size=0.2,\n",
    "                                                                random_state=0)\n",
    "\n",
    "# \"Cardinality\" means the number of unique values in a column\n",
    "# Select categorical columns with relatively low cardinality (convenient but arbitrary)\n",
    "low_cardinality_cols = [cname for cname in X_train_full.columns if X_train_full[cname].nunique() < 10 and \n",
    "                        X_train_full[cname].dtype == \"object\"]\n",
    "\n",
    "# Select numeric columns\n",
    "numeric_cols = [cname for cname in X_train_full.columns if X_train_full[cname].dtype in ['int64', 'float64']]\n",
    "\n",
    "# Keep selected columns only\n",
    "my_cols = low_cardinality_cols + numeric_cols\n",
    "X_train = X_train_full[my_cols].copy()\n",
    "X_valid = X_valid_full[my_cols].copy()\n",
    "X_test = X_test_full[my_cols].copy()\n",
    "\n",
    "# One-hot encode the data (to shorten the code, we use pandas)\n",
    "X_train = pd.get_dummies(X_train)\n",
    "X_valid = pd.get_dummies(X_valid)\n",
    "X_test = pd.get_dummies(X_test)\n",
    "X_train, X_valid = X_train.align(X_valid, join='left', axis=1)\n",
    "X_train, X_test = X_train.align(X_test, join='left', axis=1)"
   ]
  },
  {
   "cell_type": "markdown",
   "id": "4258f5f9",
   "metadata": {
    "papermill": {
     "duration": 0.00784,
     "end_time": "2023-07-03T01:42:16.542158",
     "exception": false,
     "start_time": "2023-07-03T01:42:16.534318",
     "status": "completed"
    },
    "tags": []
   },
   "source": [
    "# Step 1: Build model\n",
    "\n",
    "### Part A\n",
    "\n",
    "In this step, you'll build and train your first model with gradient boosting.\n",
    "\n",
    "- Begin by setting `my_model_1` to an XGBoost model.  Use the [XGBRegressor](https://xgboost.readthedocs.io/en/latest/python/python_api.html#xgboost.XGBRegressor) class, and set the random seed to 0 (`random_state=0`).  **Leave all other parameters as default.**\n",
    "- Then, fit the model to the training data in `X_train` and `y_train`."
   ]
  },
  {
   "cell_type": "code",
   "execution_count": 3,
   "id": "13f78659",
   "metadata": {
    "execution": {
     "iopub.execute_input": "2023-07-03T01:42:16.556953Z",
     "iopub.status.busy": "2023-07-03T01:42:16.556567Z",
     "iopub.status.idle": "2023-07-03T01:42:17.477472Z",
     "shell.execute_reply": "2023-07-03T01:42:17.476389Z"
    },
    "papermill": {
     "duration": 0.931209,
     "end_time": "2023-07-03T01:42:17.479919",
     "exception": false,
     "start_time": "2023-07-03T01:42:16.548710",
     "status": "completed"
    },
    "tags": []
   },
   "outputs": [
    {
     "data": {
      "application/javascript": [
       "parent.postMessage({\"jupyterEvent\": \"custom.exercise_interaction\", \"data\": {\"outcomeType\": 1, \"valueTowardsCompletion\": 0.5, \"interactionType\": 1, \"questionType\": 2, \"questionId\": \"1.1_Model1A\", \"learnToolsVersion\": \"0.3.4\", \"failureMessage\": \"\", \"exceptionClass\": \"\", \"trace\": \"\"}}, \"*\")"
      ],
      "text/plain": [
       "<IPython.core.display.Javascript object>"
      ]
     },
     "metadata": {},
     "output_type": "display_data"
    },
    {
     "data": {
      "text/markdown": [
       "<span style=\"color:#33cc33\">Correct</span>"
      ],
      "text/plain": [
       "Correct"
      ]
     },
     "metadata": {},
     "output_type": "display_data"
    }
   ],
   "source": [
    "from xgboost import XGBRegressor\n",
    "\n",
    "# Define the model\n",
    "my_model_1 = XGBRegressor(random_state=0) # Your code here\n",
    "\n",
    "# Fit the model\n",
    "my_model_1.fit(X_train, y_train) # Your code here\n",
    "\n",
    "# Check your answer\n",
    "step_1.a.check()"
   ]
  },
  {
   "cell_type": "code",
   "execution_count": 4,
   "id": "178df797",
   "metadata": {
    "execution": {
     "iopub.execute_input": "2023-07-03T01:42:17.496810Z",
     "iopub.status.busy": "2023-07-03T01:42:17.495733Z",
     "iopub.status.idle": "2023-07-03T01:42:17.499940Z",
     "shell.execute_reply": "2023-07-03T01:42:17.499188Z"
    },
    "papermill": {
     "duration": 0.015586,
     "end_time": "2023-07-03T01:42:17.503071",
     "exception": false,
     "start_time": "2023-07-03T01:42:17.487485",
     "status": "completed"
    },
    "tags": []
   },
   "outputs": [],
   "source": [
    "# Lines below will give you a hint or solution code\n",
    "#step_1.a.hint()\n",
    "#step_1.a.solution()"
   ]
  },
  {
   "cell_type": "markdown",
   "id": "cf4806f9",
   "metadata": {
    "papermill": {
     "duration": 0.006836,
     "end_time": "2023-07-03T01:42:17.517016",
     "exception": false,
     "start_time": "2023-07-03T01:42:17.510180",
     "status": "completed"
    },
    "tags": []
   },
   "source": [
    "### Part B\n",
    "\n",
    "Set `predictions_1` to the model's predictions for the validation data.  Recall that the validation features are stored in `X_valid`."
   ]
  },
  {
   "cell_type": "code",
   "execution_count": 5,
   "id": "31f26103",
   "metadata": {
    "execution": {
     "iopub.execute_input": "2023-07-03T01:42:17.532852Z",
     "iopub.status.busy": "2023-07-03T01:42:17.532137Z",
     "iopub.status.idle": "2023-07-03T01:42:17.558884Z",
     "shell.execute_reply": "2023-07-03T01:42:17.558038Z"
    },
    "papermill": {
     "duration": 0.037608,
     "end_time": "2023-07-03T01:42:17.561492",
     "exception": false,
     "start_time": "2023-07-03T01:42:17.523884",
     "status": "completed"
    },
    "tags": []
   },
   "outputs": [
    {
     "data": {
      "application/javascript": [
       "parent.postMessage({\"jupyterEvent\": \"custom.exercise_interaction\", \"data\": {\"outcomeType\": 1, \"valueTowardsCompletion\": 0.5, \"interactionType\": 1, \"questionType\": 2, \"questionId\": \"1.2_Model1B\", \"learnToolsVersion\": \"0.3.4\", \"failureMessage\": \"\", \"exceptionClass\": \"\", \"trace\": \"\"}}, \"*\")"
      ],
      "text/plain": [
       "<IPython.core.display.Javascript object>"
      ]
     },
     "metadata": {},
     "output_type": "display_data"
    },
    {
     "data": {
      "text/markdown": [
       "<span style=\"color:#33cc33\">Correct</span>"
      ],
      "text/plain": [
       "Correct"
      ]
     },
     "metadata": {},
     "output_type": "display_data"
    }
   ],
   "source": [
    "from sklearn.metrics import mean_absolute_error\n",
    "\n",
    "# Get predictions\n",
    "predictions_1 = my_model_1.predict(X_valid) # Your code here\n",
    "\n",
    "# Check your answer\n",
    "step_1.b.check()"
   ]
  },
  {
   "cell_type": "code",
   "execution_count": 6,
   "id": "800d3ae5",
   "metadata": {
    "execution": {
     "iopub.execute_input": "2023-07-03T01:42:17.578462Z",
     "iopub.status.busy": "2023-07-03T01:42:17.578103Z",
     "iopub.status.idle": "2023-07-03T01:42:17.582704Z",
     "shell.execute_reply": "2023-07-03T01:42:17.581512Z"
    },
    "papermill": {
     "duration": 0.015378,
     "end_time": "2023-07-03T01:42:17.584878",
     "exception": false,
     "start_time": "2023-07-03T01:42:17.569500",
     "status": "completed"
    },
    "tags": []
   },
   "outputs": [],
   "source": [
    "# Lines below will give you a hint or solution code\n",
    "#step_1.b.hint()\n",
    "#step_1.b.solution()"
   ]
  },
  {
   "cell_type": "markdown",
   "id": "4ff5e967",
   "metadata": {
    "papermill": {
     "duration": 0.007206,
     "end_time": "2023-07-03T01:42:17.599458",
     "exception": false,
     "start_time": "2023-07-03T01:42:17.592252",
     "status": "completed"
    },
    "tags": []
   },
   "source": [
    "### Part C\n",
    "\n",
    "Finally, use the `mean_absolute_error()` function to calculate the mean absolute error (MAE) corresponding to the predictions for the validation set.  Recall that the labels for the validation data are stored in `y_valid`."
   ]
  },
  {
   "cell_type": "code",
   "execution_count": 7,
   "id": "fc8ecded",
   "metadata": {
    "execution": {
     "iopub.execute_input": "2023-07-03T01:42:17.616809Z",
     "iopub.status.busy": "2023-07-03T01:42:17.616060Z",
     "iopub.status.idle": "2023-07-03T01:42:17.626401Z",
     "shell.execute_reply": "2023-07-03T01:42:17.625410Z"
    },
    "papermill": {
     "duration": 0.021702,
     "end_time": "2023-07-03T01:42:17.628508",
     "exception": false,
     "start_time": "2023-07-03T01:42:17.606806",
     "status": "completed"
    },
    "tags": []
   },
   "outputs": [
    {
     "name": "stdout",
     "output_type": "stream",
     "text": [
      "Mean Absolute Error: 17662.736729452055\n"
     ]
    },
    {
     "data": {
      "application/javascript": [
       "parent.postMessage({\"jupyterEvent\": \"custom.exercise_interaction\", \"data\": {\"outcomeType\": 1, \"valueTowardsCompletion\": 0.5, \"interactionType\": 1, \"questionType\": 2, \"questionId\": \"1.3_Model1C\", \"learnToolsVersion\": \"0.3.4\", \"failureMessage\": \"\", \"exceptionClass\": \"\", \"trace\": \"\"}}, \"*\")"
      ],
      "text/plain": [
       "<IPython.core.display.Javascript object>"
      ]
     },
     "metadata": {},
     "output_type": "display_data"
    },
    {
     "data": {
      "text/markdown": [
       "<span style=\"color:#33cc33\">Correct</span>"
      ],
      "text/plain": [
       "Correct"
      ]
     },
     "metadata": {},
     "output_type": "display_data"
    }
   ],
   "source": [
    "# Calculate MAE\n",
    "mae_1 = mean_absolute_error(predictions_1, y_valid) # Your code here\n",
    "\n",
    "# Uncomment to print MAE\n",
    "print(\"Mean Absolute Error:\" , mae_1)\n",
    "\n",
    "# Check your answer\n",
    "step_1.c.check()"
   ]
  },
  {
   "cell_type": "code",
   "execution_count": 8,
   "id": "83556b0a",
   "metadata": {
    "execution": {
     "iopub.execute_input": "2023-07-03T01:42:17.646334Z",
     "iopub.status.busy": "2023-07-03T01:42:17.645391Z",
     "iopub.status.idle": "2023-07-03T01:42:17.650319Z",
     "shell.execute_reply": "2023-07-03T01:42:17.649246Z"
    },
    "papermill": {
     "duration": 0.016087,
     "end_time": "2023-07-03T01:42:17.652416",
     "exception": false,
     "start_time": "2023-07-03T01:42:17.636329",
     "status": "completed"
    },
    "tags": []
   },
   "outputs": [],
   "source": [
    "# Lines below will give you a hint or solution code\n",
    "#step_1.c.hint()\n",
    "#step_1.c.solution()"
   ]
  },
  {
   "cell_type": "markdown",
   "id": "50313592",
   "metadata": {
    "papermill": {
     "duration": 0.007894,
     "end_time": "2023-07-03T01:42:17.668368",
     "exception": false,
     "start_time": "2023-07-03T01:42:17.660474",
     "status": "completed"
    },
    "tags": []
   },
   "source": [
    "# Step 2: Improve the model\n",
    "\n",
    "Now that you've trained a default model as baseline, it's time to tinker with the parameters, to see if you can get better performance!\n",
    "- Begin by setting `my_model_2` to an XGBoost model, using the [XGBRegressor](https://xgboost.readthedocs.io/en/latest/python/python_api.html#xgboost.XGBRegressor) class.  Use what you learned in the previous tutorial to figure out how to change the default parameters (like `n_estimators` and `learning_rate`) to get better results.\n",
    "- Then, fit the model to the training data in `X_train` and `y_train`.\n",
    "- Set `predictions_2` to the model's predictions for the validation data.  Recall that the validation features are stored in `X_valid`.\n",
    "- Finally, use the `mean_absolute_error()` function to calculate the mean absolute error (MAE) corresponding to the predictions on the validation set.  Recall that the labels for the validation data are stored in `y_valid`.\n",
    "\n",
    "In order for this step to be marked correct, your model in `my_model_2` must attain lower MAE than the model in `my_model_1`. "
   ]
  },
  {
   "cell_type": "code",
   "execution_count": 9,
   "id": "7f75a003",
   "metadata": {
    "execution": {
     "iopub.execute_input": "2023-07-03T01:42:17.686386Z",
     "iopub.status.busy": "2023-07-03T01:42:17.685599Z",
     "iopub.status.idle": "2023-07-03T01:42:26.568851Z",
     "shell.execute_reply": "2023-07-03T01:42:26.567752Z"
    },
    "papermill": {
     "duration": 8.894956,
     "end_time": "2023-07-03T01:42:26.571143",
     "exception": false,
     "start_time": "2023-07-03T01:42:17.676187",
     "status": "completed"
    },
    "tags": []
   },
   "outputs": [
    {
     "name": "stdout",
     "output_type": "stream",
     "text": [
      "Mean Absolute Error: 16918.452937714042\n"
     ]
    },
    {
     "data": {
      "application/javascript": [
       "parent.postMessage({\"jupyterEvent\": \"custom.exercise_interaction\", \"data\": {\"outcomeType\": 1, \"valueTowardsCompletion\": 0.5, \"interactionType\": 1, \"questionType\": 2, \"questionId\": \"2_Model2\", \"learnToolsVersion\": \"0.3.4\", \"failureMessage\": \"\", \"exceptionClass\": \"\", \"trace\": \"\"}}, \"*\")"
      ],
      "text/plain": [
       "<IPython.core.display.Javascript object>"
      ]
     },
     "metadata": {},
     "output_type": "display_data"
    },
    {
     "data": {
      "text/markdown": [
       "<span style=\"color:#33cc33\">Correct</span>"
      ],
      "text/plain": [
       "Correct"
      ]
     },
     "metadata": {},
     "output_type": "display_data"
    }
   ],
   "source": [
    "# Define the model\n",
    "my_model_2 = XGBRegressor(n_estimators=1000, learning_rate=0.01) # Your code here\n",
    "\n",
    "# Fit the model\n",
    "my_model_2.fit(X_train, y_train) # Your code here\n",
    "\n",
    "# Get predictions\n",
    "predictions_2 = my_model_2.predict(X_valid) # Your code here\n",
    "\n",
    "# Calculate MAE\n",
    "mae_2 = mean_absolute_error(predictions_2, y_valid) # Your code here\n",
    "\n",
    "# Uncomment to print MAE\n",
    "print(\"Mean Absolute Error:\" , mae_2)\n",
    "\n",
    "# Check your answer\n",
    "step_2.check()"
   ]
  },
  {
   "cell_type": "code",
   "execution_count": 10,
   "id": "af935342",
   "metadata": {
    "execution": {
     "iopub.execute_input": "2023-07-03T01:42:26.590858Z",
     "iopub.status.busy": "2023-07-03T01:42:26.590490Z",
     "iopub.status.idle": "2023-07-03T01:42:26.594985Z",
     "shell.execute_reply": "2023-07-03T01:42:26.593708Z"
    },
    "papermill": {
     "duration": 0.01696,
     "end_time": "2023-07-03T01:42:26.597389",
     "exception": false,
     "start_time": "2023-07-03T01:42:26.580429",
     "status": "completed"
    },
    "tags": []
   },
   "outputs": [],
   "source": [
    "# Lines below will give you a hint or solution code\n",
    "#step_2.hint()\n",
    "#step_2.solution()"
   ]
  },
  {
   "cell_type": "markdown",
   "id": "0c771e36",
   "metadata": {
    "papermill": {
     "duration": 0.008079,
     "end_time": "2023-07-03T01:42:26.613902",
     "exception": false,
     "start_time": "2023-07-03T01:42:26.605823",
     "status": "completed"
    },
    "tags": []
   },
   "source": [
    "# Step 3: Break the model\n",
    "\n",
    "In this step, you will create a model that performs worse than the original model in Step 1.  This will help you to develop your intuition for how to set parameters.  You might even find that you accidentally get better performance, which is ultimately a nice problem to have and a valuable learning experience!\n",
    "- Begin by setting `my_model_3` to an XGBoost model, using the [XGBRegressor](https://xgboost.readthedocs.io/en/latest/python/python_api.html#xgboost.XGBRegressor) class.  Use what you learned in the previous tutorial to figure out how to change the default parameters (like `n_estimators` and `learning_rate`) to design a model to get high MAE.\n",
    "- Then, fit the model to the training data in `X_train` and `y_train`.\n",
    "- Set `predictions_3` to the model's predictions for the validation data.  Recall that the validation features are stored in `X_valid`.\n",
    "- Finally, use the `mean_absolute_error()` function to calculate the mean absolute error (MAE) corresponding to the predictions on the validation set.  Recall that the labels for the validation data are stored in `y_valid`.\n",
    "\n",
    "In order for this step to be marked correct, your model in `my_model_3` must attain higher MAE than the model in `my_model_1`. "
   ]
  },
  {
   "cell_type": "code",
   "execution_count": 11,
   "id": "80a6cdc2",
   "metadata": {
    "execution": {
     "iopub.execute_input": "2023-07-03T01:42:26.632559Z",
     "iopub.status.busy": "2023-07-03T01:42:26.631809Z",
     "iopub.status.idle": "2023-07-03T01:42:26.694663Z",
     "shell.execute_reply": "2023-07-03T01:42:26.693685Z"
    },
    "papermill": {
     "duration": 0.074924,
     "end_time": "2023-07-03T01:42:26.697086",
     "exception": false,
     "start_time": "2023-07-03T01:42:26.622162",
     "status": "completed"
    },
    "tags": []
   },
   "outputs": [
    {
     "name": "stdout",
     "output_type": "stream",
     "text": [
      "Mean Absolute Error: 127895.0828807256\n"
     ]
    },
    {
     "data": {
      "application/javascript": [
       "parent.postMessage({\"jupyterEvent\": \"custom.exercise_interaction\", \"data\": {\"outcomeType\": 1, \"valueTowardsCompletion\": 0.5, \"interactionType\": 1, \"questionType\": 2, \"questionId\": \"3_Model3\", \"learnToolsVersion\": \"0.3.4\", \"failureMessage\": \"\", \"exceptionClass\": \"\", \"trace\": \"\"}}, \"*\")"
      ],
      "text/plain": [
       "<IPython.core.display.Javascript object>"
      ]
     },
     "metadata": {},
     "output_type": "display_data"
    },
    {
     "data": {
      "text/markdown": [
       "<span style=\"color:#33cc33\">Correct</span>"
      ],
      "text/plain": [
       "Correct"
      ]
     },
     "metadata": {},
     "output_type": "display_data"
    }
   ],
   "source": [
    "# Define the model\n",
    "my_model_3 = XGBRegressor(n_estimators=1)\n",
    "\n",
    "# Fit the model\n",
    "my_model_3.fit(X_train, y_train) # Your code here\n",
    "\n",
    "# Get predictions\n",
    "predictions_3 = my_model_3.predict(X_valid)\n",
    "\n",
    "# Calculate MAE\n",
    "mae_3 = mean_absolute_error(predictions_3, y_valid)\n",
    "\n",
    "# Uncomment to print MAE\n",
    "print(\"Mean Absolute Error:\" , mae_3)\n",
    "\n",
    "# Check your answer\n",
    "step_3.check()"
   ]
  },
  {
   "cell_type": "code",
   "execution_count": 12,
   "id": "754a1e46",
   "metadata": {
    "execution": {
     "iopub.execute_input": "2023-07-03T01:42:26.717179Z",
     "iopub.status.busy": "2023-07-03T01:42:26.716432Z",
     "iopub.status.idle": "2023-07-03T01:42:26.720349Z",
     "shell.execute_reply": "2023-07-03T01:42:26.719557Z"
    },
    "papermill": {
     "duration": 0.016192,
     "end_time": "2023-07-03T01:42:26.722535",
     "exception": false,
     "start_time": "2023-07-03T01:42:26.706343",
     "status": "completed"
    },
    "tags": []
   },
   "outputs": [],
   "source": [
    "# Lines below will give you a hint or solution code\n",
    "#step_3.hint()\n",
    "#step_3.solution()"
   ]
  },
  {
   "cell_type": "markdown",
   "id": "4b76e432",
   "metadata": {
    "papermill": {
     "duration": 0.008641,
     "end_time": "2023-07-03T01:42:26.740215",
     "exception": false,
     "start_time": "2023-07-03T01:42:26.731574",
     "status": "completed"
    },
    "tags": []
   },
   "source": [
    "# Keep going\n",
    "\n",
    "Continue to learn about **[data leakage](https://www.kaggle.com/alexisbcook/data-leakage)**.  This is an important issue for a data scientist to understand, and it has the potential to ruin your models in subtle and dangerous ways!"
   ]
  },
  {
   "cell_type": "markdown",
   "id": "cec112f1",
   "metadata": {
    "papermill": {
     "duration": 0.008475,
     "end_time": "2023-07-03T01:42:26.757652",
     "exception": false,
     "start_time": "2023-07-03T01:42:26.749177",
     "status": "completed"
    },
    "tags": []
   },
   "source": [
    "---\n",
    "\n",
    "\n",
    "\n",
    "\n",
    "*Have questions or comments? Visit the [course discussion forum](https://www.kaggle.com/learn/intermediate-machine-learning/discussion) to chat with other learners.*"
   ]
  }
 ],
 "metadata": {
  "kernelspec": {
   "display_name": "Python 3",
   "language": "python",
   "name": "python3"
  },
  "language_info": {
   "codemirror_mode": {
    "name": "ipython",
    "version": 3
   },
   "file_extension": ".py",
   "mimetype": "text/x-python",
   "name": "python",
   "nbconvert_exporter": "python",
   "pygments_lexer": "ipython3",
   "version": "3.10.10"
  },
  "papermill": {
   "default_parameters": {},
   "duration": 26.486576,
   "end_time": "2023-07-03T01:42:27.688956",
   "environment_variables": {},
   "exception": null,
   "input_path": "__notebook__.ipynb",
   "output_path": "__notebook__.ipynb",
   "parameters": {},
   "start_time": "2023-07-03T01:42:01.202380",
   "version": "2.4.0"
  }
 },
 "nbformat": 4,
 "nbformat_minor": 5
}
