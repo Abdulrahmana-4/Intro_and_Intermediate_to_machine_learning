{
 "cells": [
  {
   "cell_type": "markdown",
   "id": "5d5b498f",
   "metadata": {
    "papermill": {
     "duration": 0.00369,
     "end_time": "2023-06-29T20:39:34.259461",
     "exception": false,
     "start_time": "2023-06-29T20:39:34.255771",
     "status": "completed"
    },
    "tags": []
   },
   "source": [
    "**This notebook is an exercise in the [Introduction to Machine Learning](https://www.kaggle.com/learn/intro-to-machine-learning) course.  You can reference the tutorial at [this link](https://www.kaggle.com/dansbecker/underfitting-and-overfitting).**\n",
    "\n",
    "---\n"
   ]
  },
  {
   "cell_type": "markdown",
   "id": "cfd5efcf",
   "metadata": {
    "papermill": {
     "duration": 0.002636,
     "end_time": "2023-06-29T20:39:34.265205",
     "exception": false,
     "start_time": "2023-06-29T20:39:34.262569",
     "status": "completed"
    },
    "tags": []
   },
   "source": [
    "## Recap\n",
    "You've built your first model, and now it's time to optimize the size of the tree to make better predictions. Run this cell to set up your coding environment where the previous step left off."
   ]
  },
  {
   "cell_type": "code",
   "execution_count": 1,
   "id": "1eaebddb",
   "metadata": {
    "execution": {
     "iopub.execute_input": "2023-06-29T20:39:34.273645Z",
     "iopub.status.busy": "2023-06-29T20:39:34.272958Z",
     "iopub.status.idle": "2023-06-29T20:39:35.896897Z",
     "shell.execute_reply": "2023-06-29T20:39:35.895922Z"
    },
    "papermill": {
     "duration": 1.630265,
     "end_time": "2023-06-29T20:39:35.898901",
     "exception": false,
     "start_time": "2023-06-29T20:39:34.268636",
     "status": "completed"
    },
    "tags": []
   },
   "outputs": [
    {
     "name": "stdout",
     "output_type": "stream",
     "text": [
      "Validation MAE: 29,653\n",
      "\n",
      "Setup complete\n"
     ]
    }
   ],
   "source": [
    "# Code you have previously used to load data\n",
    "import pandas as pd\n",
    "from sklearn.metrics import mean_absolute_error\n",
    "from sklearn.model_selection import train_test_split\n",
    "from sklearn.tree import DecisionTreeRegressor\n",
    "\n",
    "\n",
    "# Path of the file to read\n",
    "iowa_file_path = '../input/home-data-for-ml-course/train.csv'\n",
    "\n",
    "home_data = pd.read_csv(iowa_file_path)\n",
    "# Create target object and call it y\n",
    "y = home_data.SalePrice\n",
    "# Create X\n",
    "features = ['LotArea', 'YearBuilt', '1stFlrSF', '2ndFlrSF', 'FullBath', 'BedroomAbvGr', 'TotRmsAbvGrd']\n",
    "X = home_data[features]\n",
    "\n",
    "# Split into validation and training data\n",
    "train_X, val_X, train_y, val_y = train_test_split(X, y, random_state=1)\n",
    "\n",
    "# Specify Model\n",
    "iowa_model = DecisionTreeRegressor(random_state=1)\n",
    "# Fit Model\n",
    "iowa_model.fit(train_X, train_y)\n",
    "\n",
    "# Make validation predictions and calculate mean absolute error\n",
    "val_predictions = iowa_model.predict(val_X)\n",
    "val_mae = mean_absolute_error(val_predictions, val_y)\n",
    "print(\"Validation MAE: {:,.0f}\".format(val_mae))\n",
    "\n",
    "# Set up code checking\n",
    "from learntools.core import binder\n",
    "binder.bind(globals())\n",
    "from learntools.machine_learning.ex5 import *\n",
    "print(\"\\nSetup complete\")"
   ]
  },
  {
   "cell_type": "markdown",
   "id": "fbe2102c",
   "metadata": {
    "papermill": {
     "duration": 0.003315,
     "end_time": "2023-06-29T20:39:35.905503",
     "exception": false,
     "start_time": "2023-06-29T20:39:35.902188",
     "status": "completed"
    },
    "tags": []
   },
   "source": [
    "# Exercises\n",
    "You could write the function `get_mae` yourself. For now, we'll supply it. This is the same function you read about in the previous lesson. Just run the cell below."
   ]
  },
  {
   "cell_type": "code",
   "execution_count": 2,
   "id": "566b4f06",
   "metadata": {
    "execution": {
     "iopub.execute_input": "2023-06-29T20:39:35.913040Z",
     "iopub.status.busy": "2023-06-29T20:39:35.912677Z",
     "iopub.status.idle": "2023-06-29T20:39:35.919180Z",
     "shell.execute_reply": "2023-06-29T20:39:35.916951Z"
    },
    "papermill": {
     "duration": 0.013394,
     "end_time": "2023-06-29T20:39:35.921904",
     "exception": false,
     "start_time": "2023-06-29T20:39:35.908510",
     "status": "completed"
    },
    "tags": []
   },
   "outputs": [],
   "source": [
    "def get_mae(max_leaf_nodes, train_X, val_X, train_y, val_y):\n",
    "    model = DecisionTreeRegressor(max_leaf_nodes=max_leaf_nodes, random_state=0)\n",
    "    model.fit(train_X, train_y)\n",
    "    preds_val = model.predict(val_X)\n",
    "    mae = mean_absolute_error(val_y, preds_val)\n",
    "    return(mae)"
   ]
  },
  {
   "cell_type": "markdown",
   "id": "29fd90de",
   "metadata": {
    "papermill": {
     "duration": 0.003174,
     "end_time": "2023-06-29T20:39:35.928715",
     "exception": false,
     "start_time": "2023-06-29T20:39:35.925541",
     "status": "completed"
    },
    "tags": []
   },
   "source": [
    "## Step 1: Compare Different Tree Sizes\n",
    "Write a loop that tries the following values for *max_leaf_nodes* from a set of possible values.\n",
    "\n",
    "Call the *get_mae* function on each value of max_leaf_nodes. Store the output in some way that allows you to select the value of `max_leaf_nodes` that gives the most accurate model on your data."
   ]
  },
  {
   "cell_type": "code",
   "execution_count": 3,
   "id": "8230b1ab",
   "metadata": {
    "execution": {
     "iopub.execute_input": "2023-06-29T20:39:35.936516Z",
     "iopub.status.busy": "2023-06-29T20:39:35.936122Z",
     "iopub.status.idle": "2023-06-29T20:39:35.981797Z",
     "shell.execute_reply": "2023-06-29T20:39:35.980889Z"
    },
    "papermill": {
     "duration": 0.053164,
     "end_time": "2023-06-29T20:39:35.985027",
     "exception": false,
     "start_time": "2023-06-29T20:39:35.931863",
     "status": "completed"
    },
    "tags": []
   },
   "outputs": [
    {
     "data": {
      "application/javascript": [
       "parent.postMessage({\"jupyterEvent\": \"custom.exercise_interaction\", \"data\": {\"outcomeType\": 1, \"valueTowardsCompletion\": 0.5, \"interactionType\": 1, \"questionType\": 1, \"questionId\": \"1_BestTreeSize\", \"learnToolsVersion\": \"0.3.4\", \"failureMessage\": \"\", \"exceptionClass\": \"\", \"trace\": \"\"}}, \"*\")"
      ],
      "text/plain": [
       "<IPython.core.display.Javascript object>"
      ]
     },
     "metadata": {},
     "output_type": "display_data"
    },
    {
     "data": {
      "text/markdown": [
       "<span style=\"color:#33cc33\">Correct</span>"
      ],
      "text/plain": [
       "Correct"
      ]
     },
     "metadata": {},
     "output_type": "display_data"
    }
   ],
   "source": [
    "candidate_max_leaf_nodes = [5, 25, 50, 100, 250, 500]\n",
    "# Write loop to find the ideal tree size from candidate_max_leaf_nodes\n",
    "scores = {leaf_size: get_mae(leaf_size, train_X, val_X, train_y, val_y) for leaf_size in candidate_max_leaf_nodes}\n",
    "\n",
    "# Store the best value of max_leaf_nodes (it will be either 5, 25, 50, 100, 250 or 500)\n",
    "best_tree_size = min(scores, key=scores.get)\n",
    "\n",
    "# Check your answer\n",
    "step_1.check()"
   ]
  },
  {
   "cell_type": "code",
   "execution_count": 4,
   "id": "f5291050",
   "metadata": {
    "execution": {
     "iopub.execute_input": "2023-06-29T20:39:35.993192Z",
     "iopub.status.busy": "2023-06-29T20:39:35.992830Z",
     "iopub.status.idle": "2023-06-29T20:39:35.997729Z",
     "shell.execute_reply": "2023-06-29T20:39:35.996309Z"
    },
    "papermill": {
     "duration": 0.011484,
     "end_time": "2023-06-29T20:39:35.999948",
     "exception": false,
     "start_time": "2023-06-29T20:39:35.988464",
     "status": "completed"
    },
    "tags": []
   },
   "outputs": [],
   "source": [
    "# The lines below will show you a hint or the solution.\n",
    "# step_1.hint() \n",
    "# step_1.solution()"
   ]
  },
  {
   "cell_type": "markdown",
   "id": "e9f12cc1",
   "metadata": {
    "papermill": {
     "duration": 0.002943,
     "end_time": "2023-06-29T20:39:36.007884",
     "exception": false,
     "start_time": "2023-06-29T20:39:36.004941",
     "status": "completed"
    },
    "tags": []
   },
   "source": [
    "## Step 2: Fit Model Using All Data\n",
    "You know the best tree size. If you were going to deploy this model in practice, you would make it even more accurate by using all of the data and keeping that tree size.  That is, you don't need to hold out the validation data now that you've made all your modeling decisions."
   ]
  },
  {
   "cell_type": "code",
   "execution_count": 5,
   "id": "f95dbe75",
   "metadata": {
    "execution": {
     "iopub.execute_input": "2023-06-29T20:39:36.016004Z",
     "iopub.status.busy": "2023-06-29T20:39:36.015394Z",
     "iopub.status.idle": "2023-06-29T20:39:36.029702Z",
     "shell.execute_reply": "2023-06-29T20:39:36.029089Z"
    },
    "papermill": {
     "duration": 0.020406,
     "end_time": "2023-06-29T20:39:36.031277",
     "exception": false,
     "start_time": "2023-06-29T20:39:36.010871",
     "status": "completed"
    },
    "tags": []
   },
   "outputs": [
    {
     "data": {
      "application/javascript": [
       "parent.postMessage({\"jupyterEvent\": \"custom.exercise_interaction\", \"data\": {\"outcomeType\": 1, \"valueTowardsCompletion\": 0.5, \"interactionType\": 1, \"questionType\": 2, \"questionId\": \"2_FitModelWithAllData\", \"learnToolsVersion\": \"0.3.4\", \"failureMessage\": \"\", \"exceptionClass\": \"\", \"trace\": \"\"}}, \"*\")"
      ],
      "text/plain": [
       "<IPython.core.display.Javascript object>"
      ]
     },
     "metadata": {},
     "output_type": "display_data"
    },
    {
     "data": {
      "text/markdown": [
       "<span style=\"color:#33cc33\">Correct</span>"
      ],
      "text/plain": [
       "Correct"
      ]
     },
     "metadata": {},
     "output_type": "display_data"
    }
   ],
   "source": [
    "# Fill in argument to make optimal size and uncomment\n",
    "final_model = DecisionTreeRegressor(max_leaf_nodes=best_tree_size, random_state=1)\n",
    "\n",
    "# fit the final model and uncomment the next two lines\n",
    "final_model.fit(X, y)\n",
    "\n",
    "# Check your answer\n",
    "step_2.check()"
   ]
  },
  {
   "cell_type": "code",
   "execution_count": 6,
   "id": "23eeec9c",
   "metadata": {
    "execution": {
     "iopub.execute_input": "2023-06-29T20:39:36.039311Z",
     "iopub.status.busy": "2023-06-29T20:39:36.038848Z",
     "iopub.status.idle": "2023-06-29T20:39:36.041774Z",
     "shell.execute_reply": "2023-06-29T20:39:36.041228Z"
    },
    "papermill": {
     "duration": 0.008964,
     "end_time": "2023-06-29T20:39:36.043500",
     "exception": false,
     "start_time": "2023-06-29T20:39:36.034536",
     "status": "completed"
    },
    "tags": []
   },
   "outputs": [],
   "source": [
    "# step_2.hint()\n",
    "# step_2.solution()"
   ]
  },
  {
   "cell_type": "markdown",
   "id": "c25c8cad",
   "metadata": {
    "papermill": {
     "duration": 0.003232,
     "end_time": "2023-06-29T20:39:36.050566",
     "exception": false,
     "start_time": "2023-06-29T20:39:36.047334",
     "status": "completed"
    },
    "tags": []
   },
   "source": [
    "You've tuned this model and improved your results. But we are still using Decision Tree models, which are not very sophisticated by modern machine learning standards. In the next step you will learn to use Random Forests to improve your models even more.\n",
    "\n",
    "# Keep Going\n",
    "\n",
    "You are ready for **[Random Forests](https://www.kaggle.com/dansbecker/random-forests).**\n"
   ]
  },
  {
   "cell_type": "markdown",
   "id": "36a841d6",
   "metadata": {
    "papermill": {
     "duration": 0.003091,
     "end_time": "2023-06-29T20:39:36.057039",
     "exception": false,
     "start_time": "2023-06-29T20:39:36.053948",
     "status": "completed"
    },
    "tags": []
   },
   "source": [
    "---\n",
    "\n",
    "\n",
    "\n",
    "\n",
    "*Have questions or comments? Visit the [course discussion forum](https://www.kaggle.com/learn/intro-to-machine-learning/discussion) to chat with other learners.*"
   ]
  }
 ],
 "metadata": {
  "kernelspec": {
   "display_name": "Python 3",
   "language": "python",
   "name": "python3"
  },
  "language_info": {
   "codemirror_mode": {
    "name": "ipython",
    "version": 3
   },
   "file_extension": ".py",
   "mimetype": "text/x-python",
   "name": "python",
   "nbconvert_exporter": "python",
   "pygments_lexer": "ipython3",
   "version": "3.10.10"
  },
  "papermill": {
   "default_parameters": {},
   "duration": 11.469949,
   "end_time": "2023-06-29T20:39:36.982540",
   "environment_variables": {},
   "exception": null,
   "input_path": "__notebook__.ipynb",
   "output_path": "__notebook__.ipynb",
   "parameters": {},
   "start_time": "2023-06-29T20:39:25.512591",
   "version": "2.4.0"
  }
 },
 "nbformat": 4,
 "nbformat_minor": 5
}
